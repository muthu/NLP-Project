{
 "cells": [
  {
   "cell_type": "code",
   "execution_count": 19,
   "id": "c4d7de26",
   "metadata": {},
   "outputs": [],
   "source": [
    "import pandas as pd\n",
    "import os"
   ]
  },
  {
   "cell_type": "code",
   "execution_count": 2,
   "id": "2922acb0",
   "metadata": {},
   "outputs": [],
   "source": [
    "kt_df = pd.read_csv(\"data/kaggle_twitter/train.csv\")\n",
    "gt_df = pd.read_csv(\"data/github_twitter/train.csv\")\n",
    "gr_df = pd.read_csv(\"data/github_reddit/train.csv\")"
   ]
  },
  {
   "cell_type": "markdown",
   "id": "fb6ce237",
   "metadata": {},
   "source": [
    "# Cleaning Reddit Data and storing in DataFrame "
   ]
  },
  {
   "cell_type": "code",
   "execution_count": 20,
   "id": "d17f7889",
   "metadata": {},
   "outputs": [],
   "source": [
    "gr_df['hate_speech_idx'] = gr_df['hate_speech_idx'].fillna(0)\n",
    "data = list()\n",
    "label = list()\n",
    "for index, row in gr_df.iterrows():\n",
    "    if row[\"hate_speech_idx\"] != 0:\n",
    "        ini_list = row[\"hate_speech_idx\"]\n",
    "        res = ini_list.strip('][').split(', ')\n",
    "        res = [int(item) - 1 for item in res]\n",
    "        temp = row[\"text\"].replace(\"\\t\",\"\").split(\"\\n\")\n",
    "        main = [x[x.find('.') + 2:] for x in temp]\n",
    "        main = main[:-1]\n",
    "        main = [x.strip(\"'\") for x in main]\n",
    "        main = [x.strip('\"') for x in main]\n",
    "        main = [x.lstrip('>') for x in main]\n",
    "        res = [x for x in res if x < len(main)]\n",
    "        data = data + [main[x] for x in res]\n",
    "        label = label + [1 for x in res]\n",
    "        notres = [x for x in range(len(main)) if x not in res]\n",
    "        data = data + [main[x] for x in notres]\n",
    "        label = label + [0 for x in notres]\n",
    "        \n",
    "dictionary = {'Label':label, 'Data':data}\n",
    "train_data = pd.DataFrame(dictionary)\n",
    "if not os.path.exists(\"data/clean\"):\n",
    "    os.system(\"mkdir data/clean\")\n",
    "train_data.to_csv(\"data/clean/reddit.csv\")"
   ]
  },
  {
   "cell_type": "code",
   "execution_count": null,
   "id": "787807d2",
   "metadata": {},
   "outputs": [],
   "source": []
  }
 ],
 "metadata": {
  "kernelspec": {
   "display_name": "Python 3 (ipykernel)",
   "language": "python",
   "name": "python3"
  },
  "language_info": {
   "codemirror_mode": {
    "name": "ipython",
    "version": 3
   },
   "file_extension": ".py",
   "mimetype": "text/x-python",
   "name": "python",
   "nbconvert_exporter": "python",
   "pygments_lexer": "ipython3",
   "version": "3.9.6"
  },
  "varInspector": {
   "cols": {
    "lenName": 16,
    "lenType": 16,
    "lenVar": 40
   },
   "kernels_config": {
    "python": {
     "delete_cmd_postfix": "",
     "delete_cmd_prefix": "del ",
     "library": "var_list.py",
     "varRefreshCmd": "print(var_dic_list())"
    },
    "r": {
     "delete_cmd_postfix": ") ",
     "delete_cmd_prefix": "rm(",
     "library": "var_list.r",
     "varRefreshCmd": "cat(var_dic_list()) "
    }
   },
   "types_to_exclude": [
    "module",
    "function",
    "builtin_function_or_method",
    "instance",
    "_Feature"
   ],
   "window_display": false
  }
 },
 "nbformat": 4,
 "nbformat_minor": 5
}
