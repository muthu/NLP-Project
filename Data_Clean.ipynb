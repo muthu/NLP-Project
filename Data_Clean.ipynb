{
 "cells": [
  {
   "cell_type": "code",
   "execution_count": 1,
   "id": "c4d7de26",
   "metadata": {},
   "outputs": [],
   "source": [
    "import pandas as pd\n",
    "import os\n",
    "import re"
   ]
  },
  {
   "cell_type": "code",
   "execution_count": 2,
   "id": "2922acb0",
   "metadata": {},
   "outputs": [],
   "source": [
    "kt_df = pd.read_csv(\"data/kaggle_twitter/train.csv\")\n",
    "gt_df = pd.read_csv(\"data/github_twitter/train.csv\")\n",
    "gr_df = pd.read_csv(\"data/github_reddit/train.csv\")"
   ]
  },
  {
   "cell_type": "markdown",
   "id": "fb6ce237",
   "metadata": {},
   "source": [
    "# Cleaning Reddit Data and storing in CSV "
   ]
  },
  {
   "cell_type": "code",
   "execution_count": 20,
   "id": "d17f7889",
   "metadata": {},
   "outputs": [],
   "source": [
    "gr_df['hate_speech_idx'] = gr_df['hate_speech_idx'].fillna(0)\n",
    "data = list()\n",
    "label = list()\n",
    "for index, row in gr_df.iterrows():\n",
    "    if row[\"hate_speech_idx\"] != 0:\n",
    "        ini_list = row[\"hate_speech_idx\"]\n",
    "        res = ini_list.strip('][').split(', ')\n",
    "        res = [int(item) - 1 for item in res]\n",
    "        temp = row[\"text\"].replace(\"\\t\",\"\").split(\"\\n\")\n",
    "        main = [x[x.find('.') + 2:] for x in temp]\n",
    "        main = main[:-1]\n",
    "        main = [x.strip(\"'\") for x in main]\n",
    "        main = [x.strip('\"') for x in main]\n",
    "        main = [x.lstrip('>') for x in main]\n",
    "        res = [x for x in res if x < len(main)]\n",
    "        data = data + [main[x] for x in res]\n",
    "        label = label + [1 for x in res]\n",
    "        notres = [x for x in range(len(main)) if x not in res]\n",
    "        data = data + [main[x] for x in notres]\n",
    "        label = label + [0 for x in notres]\n",
    "        \n",
    "dictionary = {'Label':label, 'Data':data}\n",
    "train_data = pd.DataFrame(dictionary)\n",
    "if not os.path.exists(\"data/clean\"):\n",
    "    os.system(\"mkdir data/clean\")\n",
    "train_data.to_csv(\"data/clean/reddit.csv\")"
   ]
  },
  {
   "cell_type": "markdown",
   "id": "c6794d98",
   "metadata": {},
   "source": [
    "# Cleaning Twitter Kaggle Data and Storing in CSV"
   ]
  },
  {
   "cell_type": "code",
   "execution_count": 15,
   "id": "934ff781",
   "metadata": {},
   "outputs": [],
   "source": [
    "clean_tweets = []\n",
    "clean_labels = []\n",
    "for index, row in kt_df.iterrows():\n",
    "    s = re.sub(r'[^a-zA-Z0-9_!@#$%^&*\\(\\)-= \\{\\}\\[\\]:;\\\"]', '', row['tweet'])\n",
    "    s = re.sub('bihday','birthday',s)\n",
    "    s = s.strip(\" \")\n",
    "    s = s.strip(\"\\t\")\n",
    "    clean_tweets.append(s)\n",
    "    clean_labels.append(row[\"label\"])\n",
    "    \n",
    "tw_kg = {\"Label\": clean_labels, \"Data\": clean_tweets}\n",
    "train_data = pd.DataFrame(tw_kg)\n",
    "if not os.path.exists(\"data/clean\"):\n",
    "    os.system(\"mkdir data/clean\")\n",
    "train_data.to_csv(\"data/clean/git_twitter.csv\")"
   ]
  },
  {
   "cell_type": "code",
   "execution_count": 14,
   "id": "9fad6479",
   "metadata": {},
   "outputs": [
    {
     "data": {
      "text/html": [
       "<div>\n",
       "<style scoped>\n",
       "    .dataframe tbody tr th:only-of-type {\n",
       "        vertical-align: middle;\n",
       "    }\n",
       "\n",
       "    .dataframe tbody tr th {\n",
       "        vertical-align: top;\n",
       "    }\n",
       "\n",
       "    .dataframe thead th {\n",
       "        text-align: right;\n",
       "    }\n",
       "</style>\n",
       "<table border=\"1\" class=\"dataframe\">\n",
       "  <thead>\n",
       "    <tr style=\"text-align: right;\">\n",
       "      <th></th>\n",
       "      <th>Label</th>\n",
       "      <th>Data</th>\n",
       "    </tr>\n",
       "  </thead>\n",
       "  <tbody>\n",
       "    <tr>\n",
       "      <th>0</th>\n",
       "      <td>0</td>\n",
       "      <td>@user when a father is dysfunctional and is so...</td>\n",
       "    </tr>\n",
       "    <tr>\n",
       "      <th>1</th>\n",
       "      <td>0</td>\n",
       "      <td>@user @user thanks for #lyft credit i cant use...</td>\n",
       "    </tr>\n",
       "    <tr>\n",
       "      <th>2</th>\n",
       "      <td>0</td>\n",
       "      <td>birthday your majesty</td>\n",
       "    </tr>\n",
       "    <tr>\n",
       "      <th>3</th>\n",
       "      <td>0</td>\n",
       "      <td>#model   i love u take with u all the time in ...</td>\n",
       "    </tr>\n",
       "    <tr>\n",
       "      <th>4</th>\n",
       "      <td>0</td>\n",
       "      <td>factsguide: society now    #motivation</td>\n",
       "    </tr>\n",
       "    <tr>\n",
       "      <th>...</th>\n",
       "      <td>...</td>\n",
       "      <td>...</td>\n",
       "    </tr>\n",
       "    <tr>\n",
       "      <th>31957</th>\n",
       "      <td>0</td>\n",
       "      <td>ate @user isz that youuu</td>\n",
       "    </tr>\n",
       "    <tr>\n",
       "      <th>31958</th>\n",
       "      <td>0</td>\n",
       "      <td>to see nina turner on the airwaves trying to w...</td>\n",
       "    </tr>\n",
       "    <tr>\n",
       "      <th>31959</th>\n",
       "      <td>0</td>\n",
       "      <td>listening to sad songs on a monday morning otw...</td>\n",
       "    </tr>\n",
       "    <tr>\n",
       "      <th>31960</th>\n",
       "      <td>1</td>\n",
       "      <td>@user #sikh #temple vandalised in in #calgary,...</td>\n",
       "    </tr>\n",
       "    <tr>\n",
       "      <th>31961</th>\n",
       "      <td>0</td>\n",
       "      <td>thank you @user for you follow</td>\n",
       "    </tr>\n",
       "  </tbody>\n",
       "</table>\n",
       "<p>31962 rows × 2 columns</p>\n",
       "</div>"
      ],
      "text/plain": [
       "       Label                                               Data\n",
       "0          0  @user when a father is dysfunctional and is so...\n",
       "1          0  @user @user thanks for #lyft credit i cant use...\n",
       "2          0                              birthday your majesty\n",
       "3          0  #model   i love u take with u all the time in ...\n",
       "4          0             factsguide: society now    #motivation\n",
       "...      ...                                                ...\n",
       "31957      0                           ate @user isz that youuu\n",
       "31958      0  to see nina turner on the airwaves trying to w...\n",
       "31959      0  listening to sad songs on a monday morning otw...\n",
       "31960      1  @user #sikh #temple vandalised in in #calgary,...\n",
       "31961      0                     thank you @user for you follow\n",
       "\n",
       "[31962 rows x 2 columns]"
      ]
     },
     "execution_count": 14,
     "metadata": {},
     "output_type": "execute_result"
    }
   ],
   "source": []
  },
  {
   "cell_type": "code",
   "execution_count": null,
   "id": "a84c3418",
   "metadata": {},
   "outputs": [],
   "source": []
  }
 ],
 "metadata": {
  "kernelspec": {
   "display_name": "Python 3 (ipykernel)",
   "language": "python",
   "name": "python3"
  },
  "language_info": {
   "codemirror_mode": {
    "name": "ipython",
    "version": 3
   },
   "file_extension": ".py",
   "mimetype": "text/x-python",
   "name": "python",
   "nbconvert_exporter": "python",
   "pygments_lexer": "ipython3",
   "version": "3.9.6"
  },
  "varInspector": {
   "cols": {
    "lenName": 16,
    "lenType": 16,
    "lenVar": 40
   },
   "kernels_config": {
    "python": {
     "delete_cmd_postfix": "",
     "delete_cmd_prefix": "del ",
     "library": "var_list.py",
     "varRefreshCmd": "print(var_dic_list())"
    },
    "r": {
     "delete_cmd_postfix": ") ",
     "delete_cmd_prefix": "rm(",
     "library": "var_list.r",
     "varRefreshCmd": "cat(var_dic_list()) "
    }
   },
   "types_to_exclude": [
    "module",
    "function",
    "builtin_function_or_method",
    "instance",
    "_Feature"
   ],
   "window_display": false
  }
 },
 "nbformat": 4,
 "nbformat_minor": 5
}
