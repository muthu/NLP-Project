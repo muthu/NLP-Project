{
 "cells": [
  {
   "cell_type": "code",
   "execution_count": 1,
   "metadata": {},
   "outputs": [],
   "source": [
    "# !pip install sklearn\n",
    "# !pip install nltk"
   ]
  },
  {
   "cell_type": "code",
   "execution_count": 1,
   "metadata": {},
   "outputs": [
    {
     "name": "stderr",
     "output_type": "stream",
     "text": [
      "[nltk_data] Downloading package stopwords to\n",
      "[nltk_data]     /Users/abishek/nltk_data...\n",
      "[nltk_data]   Package stopwords is already up-to-date!\n"
     ]
    }
   ],
   "source": [
    "import nltk\n",
    "from nltk.corpus import stopwords\n",
    "from nltk.classify import SklearnClassifier\n",
    "from sklearn.svm import LinearSVC\n",
    "\n",
    "from nltk.classify import svm\n",
    "nltk.download('stopwords')\n",
    "\n",
    "from sklearn import model_selection\n",
    "from sklearn.linear_model import LogisticRegression\n",
    "from sklearn.tree import DecisionTreeClassifier\n",
    "from sklearn.ensemble import RandomForestClassifier\n",
    "from sklearn.neighbors import KNeighborsClassifier\n",
    "from sklearn.discriminant_analysis import LinearDiscriminantAnalysis\n",
    "from sklearn.naive_bayes import GaussianNB\n",
    "from sklearn.svm import SVC\n",
    "from sklearn.pipeline import Pipeline\n",
    "import gc"
   ]
  },
  {
   "cell_type": "code",
   "execution_count": 2,
   "metadata": {},
   "outputs": [],
   "source": [
    "# Code for creating Naive Bayes Classifier for textual data\n",
    "import numpy as np\n",
    "import pandas as pd\n",
    "import nltk\n",
    "from nltk.tokenize import word_tokenize\n",
    "\n",
    "from sklearn.feature_extraction.text import TfidfVectorizer\n",
    "from sklearn.naive_bayes import BernoulliNB\n",
    "from sklearn.pipeline import make_pipeline\n",
    "from sklearn.model_selection import train_test_split\n",
    "from sklearn.metrics import confusion_matrix, accuracy_score\n",
    "\n",
    "from nltk.corpus import stopwords\n",
    "stop_words = stopwords.words('english')\n",
    "from nltk.stem.porter import PorterStemmer\n",
    "porter = PorterStemmer()\n",
    "\n",
    "import string\n",
    "table = str.maketrans('', '', string.punctuation)"
   ]
  },
  {
   "cell_type": "code",
   "execution_count": 3,
   "metadata": {},
   "outputs": [],
   "source": [
    "twitter_df = pd.read_csv(\"data/clean/git_twitter.csv\", index_col = \"Unnamed: 0\")\n",
    "reddit_df = pd.read_csv(\"data/clean/reddit.csv\", index_col = \"Unnamed: 0\")\n",
    "reddit_df = reddit_df.dropna()"
   ]
  },
  {
   "cell_type": "code",
   "execution_count": 4,
   "metadata": {},
   "outputs": [],
   "source": [
    "num_to_sample = np.sum(reddit_df['Label']==1)\n",
    "df_zero = reddit_df.query(\"Label==0\").sample(n = num_to_sample, random_state=1)\n",
    "df_one = reddit_df.query(\"Label==1\")\n",
    "reddit_df = df_zero.append(df_one, ignore_index=True)\n",
    "reddit_df = reddit_df.sample(frac = 1)"
   ]
  },
  {
   "cell_type": "code",
   "execution_count": 5,
   "metadata": {},
   "outputs": [],
   "source": [
    "twitter_df['Data'] = twitter_df['Data'].str.lower()\n",
    "reddit_df['Data'] = reddit_df['Data'].str.lower()\n",
    "twitter_df['Data'] = twitter_df['Data'].apply(lambda x: ' '.join([word.translate(table) for word in x.split()]))\n",
    "twitter_df['Data'] = twitter_df['Data'].apply(lambda x: ' '.join([word for word in x.split() if word not in (stop_words)]))\n",
    "twitter_df['Data'] = twitter_df['Data'].apply(lambda x: ' '.join([porter.stem(word) for word in x.split()]))\n",
    "reddit_df['Data'] = reddit_df['Data'].apply(lambda x: ' '.join([word.translate(table) for word in x.split()]))\n",
    "reddit_df['Data'] = reddit_df['Data'].apply(lambda x: ' '.join([word for word in x.split() if word not in (stop_words)]))\n",
    "reddit_df['Data'] = reddit_df['Data'].apply(lambda x: ' '.join([porter.stem(word) for word in x.split()]))"
   ]
  },
  {
   "cell_type": "code",
   "execution_count": 6,
   "metadata": {},
   "outputs": [],
   "source": [
    "merged_df = twitter_df.append(reddit_df, ignore_index=\"true\")"
   ]
  },
  {
   "cell_type": "code",
   "execution_count": 7,
   "metadata": {},
   "outputs": [],
   "source": [
    "# vectorizer = CountVectorizer()\n",
    "# X = vectorizer.fit_transform(sentences)\n",
    "merged_df = merged_df.dropna()"
   ]
  },
  {
   "cell_type": "code",
   "execution_count": 8,
   "metadata": {},
   "outputs": [],
   "source": [
    "# (train, test) = train_test_split(merged_df, test_size=0.2, random_state=42, shuffle=True)\n",
    "# (train, test) = train_test_split(twitter_df, test_size=0.2, random_state=42, shuffle=True)\n",
    "(train, test) = train_test_split(reddit_df, test_size=0.2, random_state=42, shuffle=True)\n",
    "(train, val) = train_test_split(train, test_size=0.2, random_state=42, shuffle=True)\n"
   ]
  },
  {
   "cell_type": "code",
   "execution_count": 9,
   "metadata": {},
   "outputs": [],
   "source": [
    "train_sentences = train['Data'].to_numpy()\n",
    "test_sentences = test['Data'].to_numpy()\n",
    "val_sentences = val['Data'].to_numpy()\n",
    "\n",
    "train_labels = train['Label'].to_numpy()\n",
    "test_labels = test['Label'].to_numpy()\n",
    "val_labels = val['Label'].to_numpy()"
   ]
  },
  {
   "cell_type": "code",
   "execution_count": 10,
   "metadata": {},
   "outputs": [],
   "source": [
    "# stopwords_set = set(stopwords.words(\"english\"))\n",
    "# labeled_train_featuresets = []\n",
    "# all_fine_tuned_words = []\n",
    "\n",
    "# def remove_stopwords(train_df):\n",
    "#     for index, row in train_df.iterrows():\n",
    "#         words_filtered = [e.lower() for e in row.Data.split() if len(e) >= 3]\n",
    "#         words_without_stopwords = [word for word in words_filtered if not word in stopwords_set]\n",
    "#         labeled_train_featuresets.append((words_without_stopwords, row.Label))\n",
    "#         all_fine_tuned_words.extend(words_without_stopwords)\n",
    "        \n",
    "# remove_stopwords(train.head(13584))"
   ]
  },
  {
   "cell_type": "code",
   "execution_count": 11,
   "metadata": {},
   "outputs": [],
   "source": [
    "# def get_word_features(wordlist):\n",
    "#     wordlist = nltk.FreqDist(wordlist)\n",
    "#     features = wordlist.keys()\n",
    "#     return features\n",
    "\n",
    "# words_features = get_word_features(all_fine_tuned_words)"
   ]
  },
  {
   "cell_type": "code",
   "execution_count": 12,
   "metadata": {},
   "outputs": [],
   "source": [
    "# def get_word_features(wordlist):\n",
    "#     wordlist = nltk.FreqDist(wordlist)\n",
    "#     features = wordlist.keys()\n",
    "#     return features\n",
    "\n",
    "# words_features = get_word_features(all_fine_tuned_words)"
   ]
  },
  {
   "cell_type": "code",
   "execution_count": 13,
   "metadata": {},
   "outputs": [],
   "source": [
    "# def features_func(document):\n",
    "#     document_words = set(document)\n",
    "#     features = {}\n",
    "#     for word in words_features:\n",
    "#         features['contains(%s)' % word] = (word in document_words)\n",
    "#     return features"
   ]
  },
  {
   "cell_type": "code",
   "execution_count": 14,
   "metadata": {},
   "outputs": [
    {
     "data": {
      "text/html": [
       "<div>\n",
       "<style scoped>\n",
       "    .dataframe tbody tr th:only-of-type {\n",
       "        vertical-align: middle;\n",
       "    }\n",
       "\n",
       "    .dataframe tbody tr th {\n",
       "        vertical-align: top;\n",
       "    }\n",
       "\n",
       "    .dataframe thead th {\n",
       "        text-align: right;\n",
       "    }\n",
       "</style>\n",
       "<table border=\"1\" class=\"dataframe\">\n",
       "  <thead>\n",
       "    <tr style=\"text-align: right;\">\n",
       "      <th></th>\n",
       "      <th>Label</th>\n",
       "      <th>Data</th>\n",
       "    </tr>\n",
       "  </thead>\n",
       "  <tbody>\n",
       "    <tr>\n",
       "      <th>9727</th>\n",
       "      <td>1</td>\n",
       "      <td>premis present censorship platform owner accep...</td>\n",
       "    </tr>\n",
       "    <tr>\n",
       "      <th>716</th>\n",
       "      <td>0</td>\n",
       "      <td>tropic thunder caus stir racist</td>\n",
       "    </tr>\n",
       "    <tr>\n",
       "      <th>1805</th>\n",
       "      <td>0</td>\n",
       "      <td>hah dont even tri compar feminist halfwit cros...</td>\n",
       "    </tr>\n",
       "    <tr>\n",
       "      <th>4291</th>\n",
       "      <td>0</td>\n",
       "      <td>citat need</td>\n",
       "    </tr>\n",
       "    <tr>\n",
       "      <th>2167</th>\n",
       "      <td>0</td>\n",
       "      <td>climat chang exist climat chang sinc day arriv...</td>\n",
       "    </tr>\n",
       "  </tbody>\n",
       "</table>\n",
       "</div>"
      ],
      "text/plain": [
       "      Label                                               Data\n",
       "9727      1  premis present censorship platform owner accep...\n",
       "716       0                    tropic thunder caus stir racist\n",
       "1805      0  hah dont even tri compar feminist halfwit cros...\n",
       "4291      0                                         citat need\n",
       "2167      0  climat chang exist climat chang sinc day arriv..."
      ]
     },
     "execution_count": 14,
     "metadata": {},
     "output_type": "execute_result"
    }
   ],
   "source": [
    "# training_set = nltk.classify.apply_features(features_func,labeled_train_featuresets)\n",
    "train.head()"
   ]
  },
  {
   "cell_type": "code",
   "execution_count": 15,
   "metadata": {},
   "outputs": [],
   "source": [
    "# training_set = nltk.classify.apply_features(features_func,labeled_train_featuresets)\n",
    "# NB_classifier = nltk.NaiveBayesClassifier.train(training_set)\n",
    "# NB_classifier.show_most_informative_features(15)"
   ]
  },
  {
   "cell_type": "code",
   "execution_count": 16,
   "metadata": {},
   "outputs": [],
   "source": [
    "from sklearn.feature_extraction.text import TfidfVectorizer\n",
    "# Create feature vectors\n",
    "vectorizer = TfidfVectorizer(min_df = 5,\n",
    "                             max_df = 0.8,\n",
    "                             sublinear_tf = True,\n",
    "                             use_idf = True)\n",
    "train_vectors = vectorizer.fit_transform(train['Data'])\n",
    "test_vectors = vectorizer.transform(test['Data'])\n"
   ]
  },
  {
   "cell_type": "code",
   "execution_count": 18,
   "metadata": {},
   "outputs": [
    {
     "name": "stdout",
     "output_type": "stream",
     "text": [
      "Size of train set:  6726 Size of test set: 2102\n",
      "Training time: 5.784512s; Prediction time: 1.271950s\n",
      "positive:  {'precision': 0.9306296691568837, 'recall': 0.8273244781783681, 'f1-score': 0.8759417378201908, 'support': 1054}\n",
      "negative:  {'precision': 0.8437768240343347, 'recall': 0.9379770992366412, 'f1-score': 0.8883868052417533, 'support': 1048}\n",
      "-------------\n",
      "0.8759417378201908\n",
      "0.8824928639391056\n"
     ]
    }
   ],
   "source": [
    "import time\n",
    "from sklearn import svm\n",
    "from sklearn.metrics import classification_report\n",
    "from sklearn.metrics import f1_score\n",
    "# Perform classification with SVM, kernel=linear\n",
    "classifier_linear = svm.SVC(kernel='linear')\n",
    "t0 = time.time()\n",
    "classifier_linear.fit(train_vectors, train['Label'])\n",
    "t1 = time.time()\n",
    "prediction_linear = classifier_linear.predict(test_vectors)\n",
    "t2 = time.time()\n",
    "time_linear_train = t1-t0\n",
    "time_linear_predict = t2-t1\n",
    "# results\n",
    "print(\"Size of train set: \",(len(train.index)), \"Size of test set:\", (len(test.index)))\n",
    "print(\"Training time: %fs; Prediction time: %fs\" % (time_linear_train, time_linear_predict))\n",
    "report = classification_report(test['Label'], prediction_linear, output_dict=True)\n",
    "print('positive: ', report['1'])\n",
    "print('negative: ', report['0'])\n",
    "print(\"-------------\")\n",
    "acc = accuracy_score(test['Label'], prediction_linear)\n",
    "print(f1_score(test['Label'], prediction_linear))\n",
    "\n",
    "print(acc)"
   ]
  },
  {
   "cell_type": "code",
   "execution_count": null,
   "metadata": {},
   "outputs": [],
   "source": []
  },
  {
   "cell_type": "code",
   "execution_count": null,
   "metadata": {},
   "outputs": [],
   "source": []
  },
  {
   "cell_type": "code",
   "execution_count": null,
   "metadata": {},
   "outputs": [],
   "source": []
  }
 ],
 "metadata": {
  "kernelspec": {
   "display_name": "Python 3 (ipykernel)",
   "language": "python",
   "name": "python3"
  },
  "language_info": {
   "codemirror_mode": {
    "name": "ipython",
    "version": 3
   },
   "file_extension": ".py",
   "mimetype": "text/x-python",
   "name": "python",
   "nbconvert_exporter": "python",
   "pygments_lexer": "ipython3",
   "version": "3.9.6"
  },
  "varInspector": {
   "cols": {
    "lenName": 16,
    "lenType": 16,
    "lenVar": 40
   },
   "kernels_config": {
    "python": {
     "delete_cmd_postfix": "",
     "delete_cmd_prefix": "del ",
     "library": "var_list.py",
     "varRefreshCmd": "print(var_dic_list())"
    },
    "r": {
     "delete_cmd_postfix": ") ",
     "delete_cmd_prefix": "rm(",
     "library": "var_list.r",
     "varRefreshCmd": "cat(var_dic_list()) "
    }
   },
   "types_to_exclude": [
    "module",
    "function",
    "builtin_function_or_method",
    "instance",
    "_Feature"
   ],
   "window_display": false
  }
 },
 "nbformat": 4,
 "nbformat_minor": 2
}
