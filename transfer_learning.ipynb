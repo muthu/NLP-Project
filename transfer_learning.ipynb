{
 "cells": [
  {
   "cell_type": "code",
   "execution_count": 1,
   "id": "7417a3d9",
   "metadata": {},
   "outputs": [],
   "source": [
    "# !pip install tensorflow_hub"
   ]
  },
  {
   "cell_type": "code",
   "execution_count": 2,
   "id": "8b25a3b4",
   "metadata": {},
   "outputs": [],
   "source": [
    "import tensorflow as tf\n",
    "from tensorflow import keras\n",
    "from keras.callbacks import EarlyStopping\n",
    "from tensorflow.keras.preprocessing.text import Tokenizer\n",
    "from tensorflow.keras.preprocessing.sequence import pad_sequences\n",
    "from keras.layers import TimeDistributed\n",
    "import tensorflow_hub as hub\n",
    "import numpy as np \n",
    "import pandas as pd\n",
    "\n",
    "from sklearn.model_selection import train_test_split\n",
    "from sklearn.metrics import confusion_matrix, accuracy_score\n",
    "from sklearn.metrics import f1_score\n",
    "from tqdm import tqdm\n",
    "\n",
    "import nltk\n",
    "from nltk.corpus import stopwords\n",
    "from nltk.tokenize import word_tokenize\n",
    "stop_words = stopwords.words('english')\n",
    "from nltk.stem.porter import PorterStemmer\n",
    "porter = PorterStemmer()\n",
    "lem = nltk.stem.wordnet.WordNetLemmatizer()\n",
    "\n",
    "tf.random.set_seed(1234)\n",
    "\n",
    "import string\n",
    "table = str.maketrans('', '', string.punctuation)"
   ]
  },
  {
   "cell_type": "code",
   "execution_count": 3,
   "id": "cf1cbda8",
   "metadata": {},
   "outputs": [],
   "source": [
    "class EarlyStoppingAtMaxVal(keras.callbacks.Callback):\n",
    "    \"\"\"Stop training when the loss is at its min, i.e. the loss stops decreasing.\n",
    "\n",
    "  Arguments:\n",
    "      patience: Number of epochs to wait after min has been hit. After this\n",
    "      number of no improvement, training stops.\n",
    "  \"\"\"\n",
    "\n",
    "    def __init__(self, patience=0):\n",
    "        super(EarlyStoppingAtMaxVal, self).__init__()\n",
    "        self.patience = patience\n",
    "        # best_weights to store the weights at which the minimum loss occurs.\n",
    "        self.best_weights = None\n",
    "\n",
    "    def on_train_begin(self, logs=None):\n",
    "        # The number of epoch it has waited when loss is no longer minimum.\n",
    "        self.wait = 0\n",
    "        # The epoch the training stops at.\n",
    "        self.stopped_epoch = 0\n",
    "        # Initialize the best as infinity.\n",
    "        self.best = -np.Inf\n",
    "\n",
    "    def on_epoch_end(self, epoch, logs=None):\n",
    "        current = logs.get(\"val_accuracy\")\n",
    "        if np.less(self.best, current):\n",
    "            self.best = current\n",
    "            self.wait = 0\n",
    "            # Record the best weights if current results is better (less).\n",
    "            self.best_weights = self.model.get_weights()\n",
    "        else:\n",
    "            self.wait += 1\n",
    "            if self.wait >= self.patience:\n",
    "                self.stopped_epoch = epoch\n",
    "                self.model.stop_training = True\n",
    "                print(\"Restoring model weights from the end of the best epoch.\")\n",
    "                self.model.set_weights(self.best_weights)\n",
    "\n",
    "    def on_train_end(self, logs=None):\n",
    "        if self.stopped_epoch > 0:\n",
    "            self.model.set_weights(self.best_weights)\n",
    "            print(\"Epoch %05d: early stopping\" % (self.stopped_epoch + 1))"
   ]
  },
  {
   "cell_type": "code",
   "execution_count": 4,
   "id": "d81b393e",
   "metadata": {},
   "outputs": [],
   "source": [
    "twitter_df = pd.read_csv(\"data/clean/git_twitter.csv\", index_col = \"Unnamed: 0\")\n",
    "reddit_df = pd.read_csv(\"data/clean/reddit.csv\", index_col = \"Unnamed: 0\")\n",
    "reddit_df = reddit_df.dropna()\n",
    "num_to_sample = np.sum(reddit_df['Label']==1)\n",
    "df_zero = reddit_df.query(\"Label==0\").sample(n = num_to_sample, random_state=1)\n",
    "df_one = reddit_df.query(\"Label==1\")\n",
    "reddit_df = df_zero.append(df_one, ignore_index=True)\n",
    "reddit_df = reddit_df.sample(frac = 1)\n",
    "reddit_df['Data'] = reddit_df['Data'].str.lower()\n",
    "reddit_df['Data'] = reddit_df['Data'].apply(lambda x: ' '.join([word.translate(table) for word in x.split()]))\n",
    "reddit_df['Data'] = reddit_df['Data'].apply(lambda x: ' '.join([word for word in x.split() if word not in (stop_words)]))\n",
    "reddit_df['Data'] = reddit_df['Data'].apply(lambda x: ' '.join([porter.stem(word) for word in x.split()]))\n",
    "\n",
    "# reddit_df['Data'] = reddit_df['Data'].apply(lambda x: ' '.join([lem.lemmatize(word) for word in x.split()]))"
   ]
  },
  {
   "cell_type": "code",
   "execution_count": 5,
   "id": "da0e3ff2",
   "metadata": {},
   "outputs": [],
   "source": [
    "# encoder = hub.load('https://tfhub.dev/google/universal-sentence-encoder/4')\n",
    "# encoder(['Hello World'])"
   ]
  },
  {
   "cell_type": "code",
   "execution_count": 6,
   "id": "fd30fd52",
   "metadata": {},
   "outputs": [],
   "source": [
    "# reddit_df['Data'] = reddit_df['Data'].str.lower()\n",
    "(train, test) = train_test_split(reddit_df, test_size=0.2, random_state=42, shuffle=True)\n",
    "(train, val) = train_test_split(train, test_size=0.2, random_state=42, shuffle=True)"
   ]
  },
  {
   "cell_type": "code",
   "execution_count": 7,
   "id": "bea88ed9",
   "metadata": {},
   "outputs": [],
   "source": [
    "train_sentences = train['Data'].to_numpy()\n",
    "test_sentences = test['Data'].to_numpy()\n",
    "val_sentences = val['Data'].to_numpy()\n",
    "\n",
    "train_labels = train['Label'].to_numpy()\n",
    "test_labels = test['Label'].to_numpy()\n",
    "val_labels = val['Label'].to_numpy()"
   ]
  },
  {
   "cell_type": "code",
   "execution_count": 22,
   "id": "da8639d2",
   "metadata": {},
   "outputs": [
    {
     "data": {
      "text/plain": [
       "1076"
      ]
     },
     "execution_count": 22,
     "metadata": {},
     "output_type": "execute_result"
    }
   ],
   "source": [
    "np.sum(test['Label']==1)\n",
    "np.sum(test['Label']==0)"
   ]
  },
  {
   "cell_type": "code",
   "execution_count": 8,
   "id": "38198f91",
   "metadata": {},
   "outputs": [],
   "source": [
    "vocab_size = 10000\n",
    "# model = tf.keras.models.Sequential()\n",
    "# model.add(hub.KerasLayer('https://tfhub.dev/google/universal-sentence-encoder/4', \n",
    "#                         input_shape=[], \n",
    "#                         dtype=tf.string, \n",
    "#                         trainable=False))\n",
    "# model.add(tf.keras.layers.Dense(6))\n",
    "# model.add(tf.keras.layers.Dense(1, activation='sigmoid'))"
   ]
  },
  {
   "cell_type": "code",
   "execution_count": 9,
   "id": "100d75d0",
   "metadata": {},
   "outputs": [],
   "source": [
    "# model.compile(optimizer='adam', \n",
    "#               loss='binary_crossentropy', \n",
    "#               metrics=['accuracy'])"
   ]
  },
  {
   "cell_type": "code",
   "execution_count": 10,
   "id": "a55f391f",
   "metadata": {},
   "outputs": [],
   "source": [
    "# model.fit(train_sentences, \n",
    "#           train_labels, \n",
    "#           epochs=10, \n",
    "#           validation_data=(val_sentences, val_labels))"
   ]
  },
  {
   "cell_type": "code",
   "execution_count": 11,
   "id": "559212e1",
   "metadata": {},
   "outputs": [],
   "source": [
    "token = Tokenizer()\n",
    "token.fit_on_texts(reddit_df['Data'])\n",
    "seq = token.texts_to_sequences(train_sentences)\n",
    "padding = pad_sequences(seq,maxlen=300)\n",
    "\n",
    "# token.fit_on_texts(val_sentenses)\n",
    "seq = token.texts_to_sequences(val_sentences)\n",
    "val_padded = pad_sequences(seq,maxlen=300)\n",
    "\n",
    "# token.fit_on_texts(test_sentenses)\n",
    "seq = token.texts_to_sequences(test_sentences)\n",
    "test_padded = pad_sequences(seq,maxlen=300)"
   ]
  },
  {
   "cell_type": "code",
   "execution_count": null,
   "id": "85ec7ed5",
   "metadata": {},
   "outputs": [],
   "source": []
  },
  {
   "cell_type": "code",
   "execution_count": 12,
   "id": "269a10c9",
   "metadata": {},
   "outputs": [],
   "source": [
    "vocab_size = len(token.word_index)+1"
   ]
  },
  {
   "cell_type": "code",
   "execution_count": 13,
   "id": "05d088fc",
   "metadata": {},
   "outputs": [],
   "source": [
    "# embedding_vector = {}\n",
    "# f = open('glove.6B.300d.txt')\n",
    "# for line in tqdm(f):\n",
    "#     value = line.split(' ')\n",
    "#     word = value[0]\n",
    "#     coef = np.array(value[1:],dtype = 'float32')\n",
    "#     embedding_vector[word] = coef"
   ]
  },
  {
   "cell_type": "code",
   "execution_count": 14,
   "id": "4af6fa51",
   "metadata": {},
   "outputs": [],
   "source": [
    "# embedding_matrix = np.zeros((vocab_size,300))\n",
    "# for word,i in tqdm(token.word_index.items()):\n",
    "#     embedding_value = embedding_vector.get(word)\n",
    "#     if embedding_value is not None:\n",
    "#         embedding_matrix[i] = embedding_value"
   ]
  },
  {
   "cell_type": "code",
   "execution_count": 15,
   "id": "90b1e8d8",
   "metadata": {},
   "outputs": [],
   "source": [
    "# with open(\"embedding_mat_lem.npy\",\"rb\") as f:\n",
    "#     embedding_matrix = np.load(f)\n",
    "with open(\"embedding_mat.npy\",\"rb\") as f:\n",
    "    embedding_matrix = np.load(f)"
   ]
  },
  {
   "cell_type": "code",
   "execution_count": 16,
   "id": "524f7d3f",
   "metadata": {},
   "outputs": [
    {
     "name": "stderr",
     "output_type": "stream",
     "text": [
      "2021-12-04 22:31:13.763619: I tensorflow/core/platform/cpu_feature_guard.cc:151] This TensorFlow binary is optimized with oneAPI Deep Neural Network Library (oneDNN) to use the following CPU instructions in performance-critical operations:  AVX2 FMA\n",
      "To enable them in other operations, rebuild TensorFlow with the appropriate compiler flags.\n"
     ]
    }
   ],
   "source": [
    "simple_model = tf.keras.models.Sequential([\n",
    "    tf.keras.layers.Embedding(vocab_size,300,weights = [embedding_matrix],input_length=300,trainable = True),\n",
    "    tf.keras.layers.GRU(units = 6, dropout=0.3, activation=\"tanh\"),\n",
    "    tf.keras.layers.Dense(units = 1, activation=\"sigmoid\")\n",
    "])"
   ]
  },
  {
   "cell_type": "code",
   "execution_count": 17,
   "id": "06a00129",
   "metadata": {},
   "outputs": [
    {
     "name": "stdout",
     "output_type": "stream",
     "text": [
      "Epoch 1/10\n",
      "211/211 [==============================] - 59s 269ms/step - loss: 0.5675 - accuracy: 0.6866 - val_loss: 0.4168 - val_accuracy: 0.8294\n",
      "Epoch 2/10\n",
      "211/211 [==============================] - 62s 293ms/step - loss: 0.3320 - accuracy: 0.8715 - val_loss: 0.3286 - val_accuracy: 0.8829\n",
      "Epoch 3/10\n",
      "211/211 [==============================] - ETA: 0s - loss: 0.2376 - accuracy: 0.9138Restoring model weights from the end of the best epoch.\n",
      "211/211 [==============================] - 74s 351ms/step - loss: 0.2376 - accuracy: 0.9138 - val_loss: 0.3254 - val_accuracy: 0.8811\n",
      "Epoch 00003: early stopping\n"
     ]
    },
    {
     "data": {
      "text/plain": [
       "<keras.callbacks.History at 0x127b68040>"
      ]
     },
     "execution_count": 17,
     "metadata": {},
     "output_type": "execute_result"
    }
   ],
   "source": [
    "simple_model.compile(loss=\"binary_crossentropy\",optimizer=\"adam\",metrics=['accuracy'])\n",
    "simple_model.fit(padding,train_labels,epochs = 10,validation_data=(val_padded,val_labels),callbacks=[EarlyStoppingAtMaxVal()])"
   ]
  },
  {
   "cell_type": "code",
   "execution_count": 18,
   "id": "4f9833f5",
   "metadata": {},
   "outputs": [
    {
     "name": "stdout",
     "output_type": "stream",
     "text": [
      "66/66 - 3s - loss: 0.3140 - accuracy: 0.8944 - 3s/epoch - 39ms/step\n",
      "0.8834033613445377\n",
      "[0.3139955401420593, 0.8943862915039062]\n"
     ]
    }
   ],
   "source": [
    "output = simple_model.evaluate(test_padded,  test_labels, verbose=2)\n",
    "y_preds = simple_model.predict(test_padded)\n",
    "pred_labels = np.where(y_preds > 0.5, 1, 0)\n",
    "print(f1_score(test_labels, pred_labels))\n",
    "print(output)"
   ]
  },
  {
   "cell_type": "code",
   "execution_count": null,
   "id": "cfb78fe1",
   "metadata": {},
   "outputs": [],
   "source": []
  },
  {
   "cell_type": "code",
   "execution_count": null,
   "id": "018de0b5",
   "metadata": {},
   "outputs": [],
   "source": []
  }
 ],
 "metadata": {
  "kernelspec": {
   "display_name": "Python 3 (ipykernel)",
   "language": "python",
   "name": "python3"
  },
  "language_info": {
   "codemirror_mode": {
    "name": "ipython",
    "version": 3
   },
   "file_extension": ".py",
   "mimetype": "text/x-python",
   "name": "python",
   "nbconvert_exporter": "python",
   "pygments_lexer": "ipython3",
   "version": "3.9.6"
  },
  "varInspector": {
   "cols": {
    "lenName": 16,
    "lenType": 16,
    "lenVar": 40
   },
   "kernels_config": {
    "python": {
     "delete_cmd_postfix": "",
     "delete_cmd_prefix": "del ",
     "library": "var_list.py",
     "varRefreshCmd": "print(var_dic_list())"
    },
    "r": {
     "delete_cmd_postfix": ") ",
     "delete_cmd_prefix": "rm(",
     "library": "var_list.r",
     "varRefreshCmd": "cat(var_dic_list()) "
    }
   },
   "types_to_exclude": [
    "module",
    "function",
    "builtin_function_or_method",
    "instance",
    "_Feature"
   ],
   "window_display": false
  }
 },
 "nbformat": 4,
 "nbformat_minor": 5
}
