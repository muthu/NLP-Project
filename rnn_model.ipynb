{
 "cells": [
  {
   "cell_type": "code",
   "execution_count": 1,
   "id": "0194f517",
   "metadata": {},
   "outputs": [],
   "source": [
    "# !pip install tensorflow"
   ]
  },
  {
   "cell_type": "code",
   "execution_count": 2,
   "id": "8c3d8bfb",
   "metadata": {},
   "outputs": [],
   "source": [
    "import tensorflow as tf\n",
    "from tensorflow import keras\n",
    "from keras.callbacks import EarlyStopping\n",
    "from tensorflow.keras.preprocessing.text import Tokenizer\n",
    "from tensorflow.keras.preprocessing.sequence import pad_sequences\n",
    "import numpy as np \n",
    "import pandas as pd\n",
    "\n",
    "from sklearn.model_selection import train_test_split\n",
    "from sklearn.metrics import confusion_matrix, accuracy_score\n",
    "\n",
    "from nltk.corpus import stopwords\n",
    "from nltk.tokenize import word_tokenize\n",
    "stop_words = stopwords.words('english')\n",
    "from nltk.stem.porter import PorterStemmer\n",
    "porter = PorterStemmer()\n",
    "\n",
    "tf.random.set_seed(1234)\n",
    "\n",
    "import string\n",
    "table = str.maketrans('', '', string.punctuation)"
   ]
  },
  {
   "cell_type": "code",
   "execution_count": 3,
   "id": "2a10e3f9",
   "metadata": {},
   "outputs": [],
   "source": [
    "class EarlyStoppingAtMaxVal(keras.callbacks.Callback):\n",
    "    \"\"\"Stop training when the loss is at its min, i.e. the loss stops decreasing.\n",
    "\n",
    "  Arguments:\n",
    "      patience: Number of epochs to wait after min has been hit. After this\n",
    "      number of no improvement, training stops.\n",
    "  \"\"\"\n",
    "\n",
    "    def __init__(self, patience=0):\n",
    "        super(EarlyStoppingAtMaxVal, self).__init__()\n",
    "        self.patience = patience\n",
    "        # best_weights to store the weights at which the minimum loss occurs.\n",
    "        self.best_weights = None\n",
    "\n",
    "    def on_train_begin(self, logs=None):\n",
    "        # The number of epoch it has waited when loss is no longer minimum.\n",
    "        self.wait = 0\n",
    "        # The epoch the training stops at.\n",
    "        self.stopped_epoch = 0\n",
    "        # Initialize the best as infinity.\n",
    "        self.best = -np.Inf\n",
    "\n",
    "    def on_epoch_end(self, epoch, logs=None):\n",
    "        current = logs.get(\"val_accuracy\")\n",
    "        if np.less(self.best, current):\n",
    "            self.best = current\n",
    "            self.wait = 0\n",
    "            # Record the best weights if current results is better (less).\n",
    "            self.best_weights = self.model.get_weights()\n",
    "        else:\n",
    "            self.wait += 1\n",
    "            if self.wait >= self.patience:\n",
    "                self.stopped_epoch = epoch\n",
    "                self.model.stop_training = True\n",
    "                print(\"Restoring model weights from the end of the best epoch.\")\n",
    "                self.model.set_weights(self.best_weights)\n",
    "\n",
    "    def on_train_end(self, logs=None):\n",
    "        if self.stopped_epoch > 0:\n",
    "            self.model.set_weights(self.best_weights)\n",
    "            print(\"Epoch %05d: early stopping\" % (self.stopped_epoch + 1))\n"
   ]
  },
  {
   "cell_type": "code",
   "execution_count": 4,
   "id": "917593e3",
   "metadata": {},
   "outputs": [],
   "source": [
    "twitter_df = pd.read_csv(\"data/clean/git_twitter.csv\", index_col = \"Unnamed: 0\")\n",
    "reddit_df = pd.read_csv(\"data/clean/reddit.csv\", index_col = \"Unnamed: 0\")\n",
    "reddit_df = reddit_df.dropna()"
   ]
  },
  {
   "cell_type": "code",
   "execution_count": 5,
   "id": "3598ee60",
   "metadata": {},
   "outputs": [],
   "source": [
    "twitter_df['Data'] = twitter_df['Data'].str.lower()\n",
    "reddit_df['Data'] = reddit_df['Data'].str.lower()\n",
    "twitter_df['Data'] = twitter_df['Data'].apply(lambda x: ' '.join([word.translate(table) for word in x.split()]))\n",
    "twitter_df['Data'] = twitter_df['Data'].apply(lambda x: ' '.join([word for word in x.split() if word not in (stop_words)]))\n",
    "twitter_df['Data'] = twitter_df['Data'].apply(lambda x: ' '.join([porter.stem(word) for word in x.split()]))\n",
    "reddit_df['Data'] = reddit_df['Data'].apply(lambda x: ' '.join([word.translate(table) for word in x.split()]))\n",
    "reddit_df['Data'] = reddit_df['Data'].apply(lambda x: ' '.join([word for word in x.split() if word not in (stop_words)]))\n",
    "reddit_df['Data'] = reddit_df['Data'].apply(lambda x: ' '.join([porter.stem(word) for word in x.split()]))"
   ]
  },
  {
   "cell_type": "code",
   "execution_count": 6,
   "id": "497caeb1",
   "metadata": {},
   "outputs": [],
   "source": [
    "(train, test) = train_test_split(reddit_df, test_size=0.2, random_state=42, shuffle=True)\n",
    "(train, val) = train_test_split(train, test_size=0.2, random_state=42, shuffle=True)"
   ]
  },
  {
   "cell_type": "code",
   "execution_count": 7,
   "id": "82e6b410",
   "metadata": {},
   "outputs": [],
   "source": [
    "train_sentences = train['Data'].to_numpy()\n",
    "test_sentences = test['Data'].to_numpy()\n",
    "val_sentences = val['Data'].to_numpy()\n",
    "\n",
    "train_labels = train['Label'].to_numpy()\n",
    "test_labels = test['Label'].to_numpy()\n",
    "val_labels = val['Label'].to_numpy()"
   ]
  },
  {
   "cell_type": "code",
   "execution_count": 8,
   "id": "85f0767e",
   "metadata": {},
   "outputs": [],
   "source": [
    "vocab_size = 10000\n",
    "oov_token = \"<oov>\"\n",
    "\n",
    "tokeniser = Tokenizer(num_words = vocab_size,oov_token = oov_token)\n",
    "tokeniser.fit_on_texts(train_sentences)\n",
    "word_index = tokeniser.word_index\n",
    "sequences = tokeniser.texts_to_sequences(train_sentences)\n",
    "padding = pad_sequences(sequences,maxlen=120,truncating='post')\n",
    "\n",
    "val_sequences = tokeniser.texts_to_sequences(val_sentences)\n",
    "val_padded = pad_sequences(val_sequences,maxlen=120,truncating='post')\n",
    "\n",
    "testing_sequences = tokeniser.texts_to_sequences(test_sentences)\n",
    "testing_padded = pad_sequences(testing_sequences,maxlen=120,truncating='post')"
   ]
  },
  {
   "cell_type": "code",
   "execution_count": 9,
   "id": "37972daf",
   "metadata": {},
   "outputs": [
    {
     "name": "stderr",
     "output_type": "stream",
     "text": [
      "2021-12-03 18:19:10.091084: I tensorflow/core/platform/cpu_feature_guard.cc:151] This TensorFlow binary is optimized with oneAPI Deep Neural Network Library (oneDNN) to use the following CPU instructions in performance-critical operations:  AVX2 FMA\n",
      "To enable them in other operations, rebuild TensorFlow with the appropriate compiler flags.\n"
     ]
    }
   ],
   "source": [
    "simple_model = tf.keras.models.Sequential([\n",
    "    tf.keras.layers.Embedding(vocab_size,16,input_length=120),\n",
    "    tf.keras.layers.Flatten(),\n",
    "    tf.keras.layers.Dense(units = 10,activation=\"relu\"),\n",
    "    tf.keras.layers.Dense(units = 1, activation=\"sigmoid\")\n",
    "])"
   ]
  },
  {
   "cell_type": "code",
   "execution_count": 10,
   "id": "71a7339c",
   "metadata": {},
   "outputs": [
    {
     "name": "stdout",
     "output_type": "stream",
     "text": [
      "Epoch 1/10\n",
      "340/340 [==============================] - 2s 3ms/step - loss: 0.5651 - accuracy: 0.7066 - val_loss: 0.3755 - val_accuracy: 0.8587\n",
      "Epoch 2/10\n",
      "340/340 [==============================] - 2s 7ms/step - loss: 0.2746 - accuracy: 0.8985 - val_loss: 0.3014 - val_accuracy: 0.8936\n",
      "Epoch 3/10\n",
      "338/340 [============================>.] - ETA: 0s - loss: 0.1649 - accuracy: 0.9453Restoring model weights from the end of the best epoch.\n",
      "340/340 [==============================] - 2s 6ms/step - loss: 0.1660 - accuracy: 0.9449 - val_loss: 0.3175 - val_accuracy: 0.8863\n",
      "Epoch 00003: early stopping\n"
     ]
    },
    {
     "data": {
      "text/plain": [
       "<keras.callbacks.History at 0x14f2d21c0>"
      ]
     },
     "execution_count": 10,
     "metadata": {},
     "output_type": "execute_result"
    }
   ],
   "source": [
    "es = EarlyStopping(monitor='val_accuracy', mode='max', min_delta=1)\n",
    "simple_model.compile(loss=\"binary_crossentropy\",optimizer=\"adam\",metrics=['accuracy'])\n",
    "simple_model.fit(padding,train_labels,epochs = 10,validation_data=(val_padded,val_labels),callbacks=[EarlyStoppingAtMaxVal()])"
   ]
  },
  {
   "cell_type": "code",
   "execution_count": 11,
   "id": "e3b4b8f2",
   "metadata": {},
   "outputs": [
    {
     "name": "stdout",
     "output_type": "stream",
     "text": [
      "107/107 - 0s - loss: 0.3111 - accuracy: 0.8911 - 210ms/epoch - 2ms/step\n",
      "The simple model gives us an accuracy of:  0.891080379486084\n"
     ]
    }
   ],
   "source": [
    "output = simple_model.evaluate(testing_padded,  test_labels, verbose=2)\n",
    "print(\"The simple model gives us an accuracy of: \", output[1])"
   ]
  },
  {
   "cell_type": "code",
   "execution_count": 12,
   "id": "62a574ff",
   "metadata": {},
   "outputs": [],
   "source": [
    "rnn_model = tf.keras.models.Sequential([\n",
    "    tf.keras.layers.Embedding(vocab_size,16,input_length=120),\n",
    "    tf.keras.layers.SimpleRNN(units = 6, dropout=0.3, activation=\"tanh\"),\n",
    "    tf.keras.layers.Dense(units = 1, activation=\"sigmoid\")\n",
    "])"
   ]
  },
  {
   "cell_type": "code",
   "execution_count": 13,
   "id": "7f23be17",
   "metadata": {},
   "outputs": [
    {
     "name": "stdout",
     "output_type": "stream",
     "text": [
      "Epoch 1/10\n",
      "340/340 [==============================] - 13s 36ms/step - loss: 0.5420 - accuracy: 0.7457 - val_loss: 0.3513 - val_accuracy: 0.8995\n",
      "Epoch 2/10\n",
      "340/340 [==============================] - 12s 36ms/step - loss: 0.3060 - accuracy: 0.9045 - val_loss: 0.2914 - val_accuracy: 0.9076\n",
      "Epoch 3/10\n",
      "340/340 [==============================] - 12s 36ms/step - loss: 0.2654 - accuracy: 0.9119 - val_loss: 0.2844 - val_accuracy: 0.9113\n",
      "Epoch 4/10\n",
      "339/340 [============================>.] - ETA: 0s - loss: 0.2619 - accuracy: 0.9080Restoring model weights from the end of the best epoch.\n",
      "340/340 [==============================] - 12s 36ms/step - loss: 0.2621 - accuracy: 0.9078 - val_loss: 0.2903 - val_accuracy: 0.9073\n",
      "Epoch 00004: early stopping\n"
     ]
    },
    {
     "data": {
      "text/plain": [
       "<keras.callbacks.History at 0x14faffcd0>"
      ]
     },
     "execution_count": 13,
     "metadata": {},
     "output_type": "execute_result"
    }
   ],
   "source": [
    "rnn_model.compile(loss=\"binary_crossentropy\",optimizer=\"adam\",metrics=['accuracy'])\n",
    "rnn_model.fit(padding,train_labels,epochs = 10,validation_data=(val_padded,val_labels),callbacks=[EarlyStoppingAtMaxVal()])"
   ]
  },
  {
   "cell_type": "code",
   "execution_count": 14,
   "id": "c9c373c9",
   "metadata": {},
   "outputs": [
    {
     "name": "stdout",
     "output_type": "stream",
     "text": [
      "107/107 - 1s - loss: 0.2891 - accuracy: 0.9111 - 514ms/epoch - 5ms/step\n",
      "The Baseline RNN model gives us an accuracy of:  0.9110980033874512\n"
     ]
    }
   ],
   "source": [
    "output = rnn_model.evaluate(testing_padded,  test_labels, verbose=2)\n",
    "print(\"The Baseline RNN model gives us an accuracy of: \", output[1])"
   ]
  },
  {
   "cell_type": "code",
   "execution_count": 15,
   "id": "70bed676",
   "metadata": {},
   "outputs": [],
   "source": [
    "lstm_model = tf.keras.models.Sequential([\n",
    "    tf.keras.layers.Embedding(vocab_size,16,input_length=120),\n",
    "    tf.keras.layers.LSTM(units = 6, dropout=0.3, activation=\"tanh\"),\n",
    "    tf.keras.layers.Dense(units = 1, activation=\"sigmoid\")\n",
    "])"
   ]
  },
  {
   "cell_type": "code",
   "execution_count": 16,
   "id": "e77fc2fa",
   "metadata": {},
   "outputs": [
    {
     "name": "stdout",
     "output_type": "stream",
     "text": [
      "Epoch 1/10\n",
      "340/340 [==============================] - 18s 48ms/step - loss: 0.5479 - accuracy: 0.7230 - val_loss: 0.3764 - val_accuracy: 0.8682\n",
      "Epoch 2/10\n",
      "340/340 [==============================] - 16s 47ms/step - loss: 0.2906 - accuracy: 0.9052 - val_loss: 0.2816 - val_accuracy: 0.9120\n",
      "Epoch 3/10\n",
      "340/340 [==============================] - ETA: 0s - loss: 0.2012 - accuracy: 0.9362Restoring model weights from the end of the best epoch.\n",
      "340/340 [==============================] - 17s 51ms/step - loss: 0.2012 - accuracy: 0.9362 - val_loss: 0.2771 - val_accuracy: 0.9032\n",
      "Epoch 00003: early stopping\n"
     ]
    },
    {
     "data": {
      "text/plain": [
       "<keras.callbacks.History at 0x14feb9220>"
      ]
     },
     "execution_count": 16,
     "metadata": {},
     "output_type": "execute_result"
    }
   ],
   "source": [
    "lstm_model.compile(loss=\"binary_crossentropy\",optimizer=\"adam\",metrics=['accuracy'])\n",
    "lstm_model.fit(padding,train_labels,epochs = 10,validation_data=(val_padded,val_labels),callbacks=[EarlyStoppingAtMaxVal()])"
   ]
  },
  {
   "cell_type": "code",
   "execution_count": 17,
   "id": "a4632393",
   "metadata": {},
   "outputs": [
    {
     "name": "stdout",
     "output_type": "stream",
     "text": [
      "107/107 - 1s - loss: 0.2895 - accuracy: 0.9093 - 1s/epoch - 10ms/step\n",
      "The LSTM model gives us an accuracy of:  0.909331738948822\n"
     ]
    }
   ],
   "source": [
    "output = lstm_model.evaluate(testing_padded,  test_labels, verbose=2)\n",
    "print(\"The LSTM model gives us an accuracy of: \", output[1])"
   ]
  },
  {
   "cell_type": "code",
   "execution_count": 18,
   "id": "de8df018",
   "metadata": {},
   "outputs": [],
   "source": [
    "bi_lstm_model = tf.keras.models.Sequential([\n",
    "    tf.keras.layers.Embedding(vocab_size,16,input_length=120),\n",
    "    tf.keras.layers.Bidirectional(tf.keras.layers.LSTM(units = 6, dropout=0.3, activation=\"tanh\")),\n",
    "    tf.keras.layers.Dense(units = 1, activation=\"sigmoid\")\n",
    "])"
   ]
  },
  {
   "cell_type": "code",
   "execution_count": 19,
   "id": "a386cb67",
   "metadata": {},
   "outputs": [
    {
     "name": "stdout",
     "output_type": "stream",
     "text": [
      "Epoch 1/10\n",
      "340/340 [==============================] - 28s 71ms/step - loss: 0.5607 - accuracy: 0.7163 - val_loss: 0.3733 - val_accuracy: 0.8653\n",
      "Epoch 2/10\n",
      "340/340 [==============================] - 24s 70ms/step - loss: 0.2910 - accuracy: 0.9073 - val_loss: 0.2809 - val_accuracy: 0.9084\n",
      "Epoch 3/10\n",
      "340/340 [==============================] - ETA: 0s - loss: 0.2214 - accuracy: 0.9280Restoring model weights from the end of the best epoch.\n",
      "340/340 [==============================] - 21s 62ms/step - loss: 0.2214 - accuracy: 0.9280 - val_loss: 0.2798 - val_accuracy: 0.9043\n",
      "Epoch 00003: early stopping\n"
     ]
    },
    {
     "data": {
      "text/plain": [
       "<keras.callbacks.History at 0x1504756a0>"
      ]
     },
     "execution_count": 19,
     "metadata": {},
     "output_type": "execute_result"
    }
   ],
   "source": [
    "bi_lstm_model.compile(loss=\"binary_crossentropy\",optimizer=\"adam\",metrics=['accuracy'])\n",
    "bi_lstm_model.fit(padding,train_labels,epochs = 10,validation_data=(val_padded,val_labels),callbacks=[EarlyStoppingAtMaxVal()])"
   ]
  },
  {
   "cell_type": "code",
   "execution_count": 20,
   "id": "4da161dc",
   "metadata": {},
   "outputs": [
    {
     "name": "stdout",
     "output_type": "stream",
     "text": [
      "107/107 - 1s - loss: 0.2888 - accuracy: 0.9096 - 1s/epoch - 10ms/step\n",
      "The BI-LSTM model gives us an accuracy of:  0.9096261262893677\n"
     ]
    }
   ],
   "source": [
    "output = bi_lstm_model.evaluate(testing_padded,  test_labels, verbose=2)\n",
    "print(\"The BI-LSTM model gives us an accuracy of: \", output[1])"
   ]
  },
  {
   "cell_type": "code",
   "execution_count": 21,
   "id": "c8cfa154",
   "metadata": {},
   "outputs": [],
   "source": [
    "gru_model = tf.keras.models.Sequential([\n",
    "    tf.keras.layers.Embedding(vocab_size,16,input_length=120),\n",
    "    tf.keras.layers.GRU(units = 6, dropout=0.3, activation=\"tanh\"),\n",
    "    tf.keras.layers.Dense(units = 1, activation=\"sigmoid\")\n",
    "])"
   ]
  },
  {
   "cell_type": "code",
   "execution_count": 22,
   "id": "69beb4a5",
   "metadata": {},
   "outputs": [
    {
     "name": "stdout",
     "output_type": "stream",
     "text": [
      "Epoch 1/10\n",
      "340/340 [==============================] - 23s 61ms/step - loss: 0.5404 - accuracy: 0.7439 - val_loss: 0.3289 - val_accuracy: 0.8907\n",
      "Epoch 2/10\n",
      "340/340 [==============================] - 21s 61ms/step - loss: 0.2629 - accuracy: 0.9130 - val_loss: 0.2566 - val_accuracy: 0.9172\n",
      "Epoch 3/10\n",
      "340/340 [==============================] - ETA: 0s - loss: 0.2094 - accuracy: 0.9337Restoring model weights from the end of the best epoch.\n",
      "340/340 [==============================] - 22s 64ms/step - loss: 0.2094 - accuracy: 0.9337 - val_loss: 0.2624 - val_accuracy: 0.9091\n",
      "Epoch 00003: early stopping\n"
     ]
    },
    {
     "data": {
      "text/plain": [
       "<keras.callbacks.History at 0x150e68f10>"
      ]
     },
     "execution_count": 22,
     "metadata": {},
     "output_type": "execute_result"
    }
   ],
   "source": [
    "gru_model.compile(loss=\"binary_crossentropy\",optimizer=\"adam\",metrics=['accuracy'])\n",
    "gru_model.fit(padding,train_labels,epochs = 10,validation_data=(val_padded,val_labels),callbacks=[EarlyStoppingAtMaxVal()])"
   ]
  },
  {
   "cell_type": "code",
   "execution_count": 23,
   "id": "614acb90",
   "metadata": {},
   "outputs": [
    {
     "name": "stdout",
     "output_type": "stream",
     "text": [
      "107/107 - 1s - loss: 0.2743 - accuracy: 0.9132 - 960ms/epoch - 9ms/step\n",
      "The GRU model gives us an accuracy of:  0.913158655166626\n"
     ]
    }
   ],
   "source": [
    "output = gru_model.evaluate(testing_padded,  test_labels, verbose=2)\n",
    "print(\"The GRU model gives us an accuracy of: \", output[1])"
   ]
  },
  {
   "cell_type": "code",
   "execution_count": null,
   "id": "9dff5af1",
   "metadata": {},
   "outputs": [],
   "source": []
  }
 ],
 "metadata": {
  "kernelspec": {
   "display_name": "Python 3 (ipykernel)",
   "language": "python",
   "name": "python3"
  },
  "language_info": {
   "codemirror_mode": {
    "name": "ipython",
    "version": 3
   },
   "file_extension": ".py",
   "mimetype": "text/x-python",
   "name": "python",
   "nbconvert_exporter": "python",
   "pygments_lexer": "ipython3",
   "version": "3.9.6"
  },
  "varInspector": {
   "cols": {
    "lenName": 16,
    "lenType": 16,
    "lenVar": 40
   },
   "kernels_config": {
    "python": {
     "delete_cmd_postfix": "",
     "delete_cmd_prefix": "del ",
     "library": "var_list.py",
     "varRefreshCmd": "print(var_dic_list())"
    },
    "r": {
     "delete_cmd_postfix": ") ",
     "delete_cmd_prefix": "rm(",
     "library": "var_list.r",
     "varRefreshCmd": "cat(var_dic_list()) "
    }
   },
   "types_to_exclude": [
    "module",
    "function",
    "builtin_function_or_method",
    "instance",
    "_Feature"
   ],
   "window_display": false
  }
 },
 "nbformat": 4,
 "nbformat_minor": 5
}
