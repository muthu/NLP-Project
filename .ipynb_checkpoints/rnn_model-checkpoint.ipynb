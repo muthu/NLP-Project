{
 "cells": [
  {
   "cell_type": "code",
   "execution_count": 1,
   "id": "0194f517",
   "metadata": {},
   "outputs": [],
   "source": [
    "# !pip install tensorflow"
   ]
  },
  {
   "cell_type": "code",
   "execution_count": 1,
   "id": "8c3d8bfb",
   "metadata": {},
   "outputs": [],
   "source": [
    "import tensorflow as tf\n",
    "from tensorflow import keras\n",
    "from keras.callbacks import EarlyStopping\n",
    "from tensorflow.keras.preprocessing.text import Tokenizer\n",
    "from tensorflow.keras.preprocessing.sequence import pad_sequences\n",
    "import numpy as np \n",
    "import pandas as pd\n",
    "\n",
    "from sklearn.model_selection import train_test_split\n",
    "from sklearn.metrics import confusion_matrix, accuracy_score\n",
    "from sklearn.metrics import f1_score\n",
    "\n",
    "from nltk.corpus import stopwords\n",
    "from nltk.tokenize import word_tokenize\n",
    "stop_words = stopwords.words('english')\n",
    "from nltk.stem.porter import PorterStemmer\n",
    "porter = PorterStemmer()\n",
    "\n",
    "tf.random.set_seed(1234)\n",
    "\n",
    "import string\n",
    "table = str.maketrans('', '', string.punctuation)"
   ]
  },
  {
   "cell_type": "code",
   "execution_count": 3,
   "id": "2a10e3f9",
   "metadata": {},
   "outputs": [],
   "source": [
    "class EarlyStoppingAtMaxVal(keras.callbacks.Callback):\n",
    "    \"\"\"Stop training when the loss is at its min, i.e. the loss stops decreasing.\n",
    "\n",
    "  Arguments:\n",
    "      patience: Number of epochs to wait after min has been hit. After this\n",
    "      number of no improvement, training stops.\n",
    "  \"\"\"\n",
    "\n",
    "    def __init__(self, patience=0):\n",
    "        super(EarlyStoppingAtMaxVal, self).__init__()\n",
    "        self.patience = patience\n",
    "        # best_weights to store the weights at which the minimum loss occurs.\n",
    "        self.best_weights = None\n",
    "\n",
    "    def on_train_begin(self, logs=None):\n",
    "        # The number of epoch it has waited when loss is no longer minimum.\n",
    "        self.wait = 0\n",
    "        # The epoch the training stops at.\n",
    "        self.stopped_epoch = 0\n",
    "        # Initialize the best as infinity.\n",
    "        self.best = -np.Inf\n",
    "\n",
    "    def on_epoch_end(self, epoch, logs=None):\n",
    "        current = logs.get(\"val_accuracy\")\n",
    "        if np.less(self.best, current):\n",
    "            self.best = current\n",
    "            self.wait = 0\n",
    "            # Record the best weights if current results is better (less).\n",
    "            self.best_weights = self.model.get_weights()\n",
    "        else:\n",
    "            self.wait += 1\n",
    "            if self.wait >= self.patience:\n",
    "                self.stopped_epoch = epoch\n",
    "                self.model.stop_training = True\n",
    "                print(\"Restoring model weights from the end of the best epoch.\")\n",
    "                self.model.set_weights(self.best_weights)\n",
    "\n",
    "    def on_train_end(self, logs=None):\n",
    "        if self.stopped_epoch > 0:\n",
    "            self.model.set_weights(self.best_weights)\n",
    "            print(\"Epoch %05d: early stopping\" % (self.stopped_epoch + 1))\n"
   ]
  },
  {
   "cell_type": "code",
   "execution_count": 4,
   "id": "917593e3",
   "metadata": {},
   "outputs": [],
   "source": [
    "twitter_df = pd.read_csv(\"data/clean/git_twitter.csv\", index_col = \"Unnamed: 0\")\n",
    "reddit_df = pd.read_csv(\"data/clean/reddit.csv\", index_col = \"Unnamed: 0\")\n",
    "reddit_df = reddit_df.dropna()"
   ]
  },
  {
   "cell_type": "code",
   "execution_count": 5,
   "id": "2b9e132d",
   "metadata": {},
   "outputs": [],
   "source": [
    "num_to_sample = np.sum(reddit_df['Label']==1)\n",
    "df_zero = reddit_df.query(\"Label==0\").sample(n = num_to_sample, random_state=1)\n",
    "df_one = reddit_df.query(\"Label==1\")\n",
    "reddit_df = df_zero.append(df_one, ignore_index=True)\n",
    "reddit_df = reddit_df.sample(frac = 1)"
   ]
  },
  {
   "cell_type": "code",
   "execution_count": 6,
   "id": "3598ee60",
   "metadata": {},
   "outputs": [],
   "source": [
    "twitter_df['Data'] = twitter_df['Data'].str.lower()\n",
    "reddit_df['Data'] = reddit_df['Data'].str.lower()\n",
    "twitter_df['Data'] = twitter_df['Data'].apply(lambda x: ' '.join([word.translate(table) for word in x.split()]))\n",
    "twitter_df['Data'] = twitter_df['Data'].apply(lambda x: ' '.join([word for word in x.split() if word not in (stop_words)]))\n",
    "twitter_df['Data'] = twitter_df['Data'].apply(lambda x: ' '.join([porter.stem(word) for word in x.split()]))\n",
    "reddit_df['Data'] = reddit_df['Data'].apply(lambda x: ' '.join([word.translate(table) for word in x.split()]))\n",
    "reddit_df['Data'] = reddit_df['Data'].apply(lambda x: ' '.join([word for word in x.split() if word not in (stop_words)]))\n",
    "reddit_df['Data'] = reddit_df['Data'].apply(lambda x: ' '.join([porter.stem(word) for word in x.split()]))"
   ]
  },
  {
   "cell_type": "code",
   "execution_count": 7,
   "id": "497caeb1",
   "metadata": {},
   "outputs": [],
   "source": [
    "(train, test) = train_test_split(reddit_df, test_size=0.2, random_state=42, shuffle=True)\n",
    "(train, val) = train_test_split(train, test_size=0.2, random_state=42, shuffle=True)"
   ]
  },
  {
   "cell_type": "code",
   "execution_count": 8,
   "id": "82e6b410",
   "metadata": {},
   "outputs": [],
   "source": [
    "train_sentences = train['Data'].to_numpy()\n",
    "test_sentences = test['Data'].to_numpy()\n",
    "val_sentences = val['Data'].to_numpy()\n",
    "\n",
    "train_labels = train['Label'].to_numpy()\n",
    "test_labels = test['Label'].to_numpy()\n",
    "val_labels = val['Label'].to_numpy()"
   ]
  },
  {
   "cell_type": "code",
   "execution_count": 9,
   "id": "85f0767e",
   "metadata": {},
   "outputs": [],
   "source": [
    "vocab_size = 10000\n",
    "oov_token = \"<oov>\"\n",
    "\n",
    "tokeniser = Tokenizer(num_words = vocab_size,oov_token = oov_token)\n",
    "tokeniser.fit_on_texts(train_sentences)\n",
    "word_index = tokeniser.word_index\n",
    "sequences = tokeniser.texts_to_sequences(train_sentences)\n",
    "padding = pad_sequences(sequences,maxlen=120,truncating='post')\n",
    "\n",
    "val_sequences = tokeniser.texts_to_sequences(val_sentences)\n",
    "val_padded = pad_sequences(val_sequences,maxlen=120,truncating='post')\n",
    "\n",
    "testing_sequences = tokeniser.texts_to_sequences(test_sentences)\n",
    "testing_padded = pad_sequences(testing_sequences,maxlen=120,truncating='post')"
   ]
  },
  {
   "cell_type": "code",
   "execution_count": 10,
   "id": "37972daf",
   "metadata": {},
   "outputs": [
    {
     "name": "stderr",
     "output_type": "stream",
     "text": [
      "2021-12-04 23:07:56.047287: I tensorflow/core/platform/cpu_feature_guard.cc:151] This TensorFlow binary is optimized with oneAPI Deep Neural Network Library (oneDNN) to use the following CPU instructions in performance-critical operations:  AVX2 FMA\n",
      "To enable them in other operations, rebuild TensorFlow with the appropriate compiler flags.\n"
     ]
    }
   ],
   "source": [
    "simple_model = tf.keras.models.Sequential([\n",
    "    tf.keras.layers.Embedding(vocab_size,16,input_length=120),\n",
    "    tf.keras.layers.Flatten(),\n",
    "    tf.keras.layers.Dense(units = 10,activation=\"relu\"),\n",
    "    tf.keras.layers.Dense(units = 1, activation=\"sigmoid\")\n",
    "])"
   ]
  },
  {
   "cell_type": "code",
   "execution_count": 11,
   "id": "71a7339c",
   "metadata": {},
   "outputs": [
    {
     "name": "stdout",
     "output_type": "stream",
     "text": [
      "Epoch 1/10\n",
      "211/211 [==============================] - 1s 4ms/step - loss: 0.6495 - accuracy: 0.6305 - val_loss: 0.5332 - val_accuracy: 0.7687\n",
      "Epoch 2/10\n",
      "211/211 [==============================] - 1s 3ms/step - loss: 0.3507 - accuracy: 0.8756 - val_loss: 0.4092 - val_accuracy: 0.8228\n",
      "Epoch 3/10\n",
      "195/211 [==========================>...] - ETA: 0s - loss: 0.1680 - accuracy: 0.9473Restoring model weights from the end of the best epoch.\n",
      "211/211 [==============================] - 1s 3ms/step - loss: 0.1686 - accuracy: 0.9459 - val_loss: 0.4599 - val_accuracy: 0.8008\n",
      "Epoch 00003: early stopping\n"
     ]
    },
    {
     "data": {
      "text/plain": [
       "<keras.callbacks.History at 0x132a25160>"
      ]
     },
     "execution_count": 11,
     "metadata": {},
     "output_type": "execute_result"
    }
   ],
   "source": [
    "es = EarlyStopping(monitor='val_accuracy', mode='max', min_delta=1)\n",
    "simple_model.compile(loss=\"binary_crossentropy\",optimizer=\"adam\",metrics=['accuracy'])\n",
    "simple_model.fit(padding,train_labels,epochs = 10,validation_data=(val_padded,val_labels),callbacks=[EarlyStoppingAtMaxVal()])"
   ]
  },
  {
   "cell_type": "code",
   "execution_count": 12,
   "id": "e3b4b8f2",
   "metadata": {},
   "outputs": [
    {
     "name": "stdout",
     "output_type": "stream",
     "text": [
      "66/66 - 0s - loss: 0.4250 - accuracy: 0.8040 - 151ms/epoch - 2ms/step\n",
      "The simple model gives us an accuracy of:  0.803996205329895\n"
     ]
    }
   ],
   "source": [
    "output = simple_model.evaluate(testing_padded,  test_labels, verbose=2)\n",
    "print(\"The simple model gives us an accuracy of: \", output[1])"
   ]
  },
  {
   "cell_type": "code",
   "execution_count": 13,
   "id": "62a574ff",
   "metadata": {},
   "outputs": [],
   "source": [
    "rnn_model = tf.keras.models.Sequential([\n",
    "    tf.keras.layers.Embedding(vocab_size,16,input_length=120),\n",
    "    tf.keras.layers.SimpleRNN(units = 6, dropout=0.3, activation=\"tanh\"),\n",
    "    tf.keras.layers.Dense(units = 1, activation=\"sigmoid\")\n",
    "])"
   ]
  },
  {
   "cell_type": "code",
   "execution_count": 14,
   "id": "7f23be17",
   "metadata": {},
   "outputs": [
    {
     "name": "stdout",
     "output_type": "stream",
     "text": [
      "Epoch 1/10\n",
      "211/211 [==============================] - 9s 37ms/step - loss: 0.6629 - accuracy: 0.6087 - val_loss: 0.5848 - val_accuracy: 0.7337\n",
      "Epoch 2/10\n",
      "211/211 [==============================] - 7s 35ms/step - loss: 0.4889 - accuracy: 0.8202 - val_loss: 0.4795 - val_accuracy: 0.8074\n",
      "Epoch 3/10\n",
      "211/211 [==============================] - 7s 34ms/step - loss: 0.3292 - accuracy: 0.9060 - val_loss: 0.4183 - val_accuracy: 0.8365\n",
      "Epoch 4/10\n",
      "211/211 [==============================] - ETA: 0s - loss: 0.2344 - accuracy: 0.9353Restoring model weights from the end of the best epoch.\n",
      "211/211 [==============================] - 8s 36ms/step - loss: 0.2344 - accuracy: 0.9353 - val_loss: 0.4195 - val_accuracy: 0.8335\n",
      "Epoch 00004: early stopping\n"
     ]
    },
    {
     "data": {
      "text/plain": [
       "<keras.callbacks.History at 0x132c81f40>"
      ]
     },
     "execution_count": 14,
     "metadata": {},
     "output_type": "execute_result"
    }
   ],
   "source": [
    "rnn_model.compile(loss=\"binary_crossentropy\",optimizer=\"adam\",metrics=['accuracy'])\n",
    "rnn_model.fit(padding,train_labels,epochs = 10,validation_data=(val_padded,val_labels),callbacks=[EarlyStoppingAtMaxVal()])"
   ]
  },
  {
   "cell_type": "code",
   "execution_count": 15,
   "id": "c9c373c9",
   "metadata": {},
   "outputs": [
    {
     "name": "stdout",
     "output_type": "stream",
     "text": [
      "66/66 - 1s - loss: 0.3248 - accuracy: 0.8830 - 512ms/epoch - 8ms/step\n",
      "The Baseline RNN model gives us an accuracy of:  0.8829686045646667\n"
     ]
    }
   ],
   "source": [
    "output = rnn_model.evaluate(testing_padded,  test_labels, verbose=2)\n",
    "print(\"The Baseline RNN model gives us an accuracy of: \", output[1])"
   ]
  },
  {
   "cell_type": "code",
   "execution_count": 16,
   "id": "70bed676",
   "metadata": {},
   "outputs": [],
   "source": [
    "lstm_model = tf.keras.models.Sequential([\n",
    "    tf.keras.layers.Embedding(vocab_size,16,input_length=120),\n",
    "    tf.keras.layers.LSTM(units = 6, dropout=0.3, activation=\"tanh\"),\n",
    "    tf.keras.layers.Dense(units = 1, activation=\"sigmoid\")\n",
    "])"
   ]
  },
  {
   "cell_type": "code",
   "execution_count": 17,
   "id": "e77fc2fa",
   "metadata": {},
   "outputs": [
    {
     "name": "stdout",
     "output_type": "stream",
     "text": [
      "Epoch 1/10\n",
      "211/211 [==============================] - 16s 63ms/step - loss: 0.6496 - accuracy: 0.6450 - val_loss: 0.5247 - val_accuracy: 0.8020\n",
      "Epoch 2/10\n",
      "211/211 [==============================] - 12s 57ms/step - loss: 0.3686 - accuracy: 0.8711 - val_loss: 0.3449 - val_accuracy: 0.8775\n",
      "Epoch 3/10\n",
      "211/211 [==============================] - ETA: 0s - loss: 0.2416 - accuracy: 0.9206Restoring model weights from the end of the best epoch.\n",
      "211/211 [==============================] - 12s 59ms/step - loss: 0.2416 - accuracy: 0.9206 - val_loss: 0.3411 - val_accuracy: 0.8722\n",
      "Epoch 00003: early stopping\n"
     ]
    },
    {
     "data": {
      "text/plain": [
       "<keras.callbacks.History at 0x148e7e730>"
      ]
     },
     "execution_count": 17,
     "metadata": {},
     "output_type": "execute_result"
    }
   ],
   "source": [
    "lstm_model.compile(loss=\"binary_crossentropy\",optimizer=\"adam\",metrics=['accuracy'])\n",
    "lstm_model.fit(padding,train_labels,epochs = 10,validation_data=(val_padded,val_labels),callbacks=[EarlyStoppingAtMaxVal()])"
   ]
  },
  {
   "cell_type": "code",
   "execution_count": 18,
   "id": "a4632393",
   "metadata": {},
   "outputs": [
    {
     "name": "stdout",
     "output_type": "stream",
     "text": [
      "66/66 - 1s - loss: 0.3471 - accuracy: 0.8730 - 665ms/epoch - 10ms/step\n",
      "The LSTM model gives us an accuracy of:  0.8729780912399292\n"
     ]
    }
   ],
   "source": [
    "output = lstm_model.evaluate(testing_padded,  test_labels, verbose=2)\n",
    "print(\"The LSTM model gives us an accuracy of: \", output[1])"
   ]
  },
  {
   "cell_type": "code",
   "execution_count": 19,
   "id": "de8df018",
   "metadata": {},
   "outputs": [],
   "source": [
    "bi_lstm_model = tf.keras.models.Sequential([\n",
    "    tf.keras.layers.Embedding(vocab_size,16,input_length=120),\n",
    "    tf.keras.layers.Bidirectional(tf.keras.layers.LSTM(units = 6, dropout=0.3, activation=\"tanh\")),\n",
    "    tf.keras.layers.Dense(units = 1, activation=\"sigmoid\")\n",
    "])"
   ]
  },
  {
   "cell_type": "code",
   "execution_count": 20,
   "id": "a386cb67",
   "metadata": {},
   "outputs": [
    {
     "name": "stdout",
     "output_type": "stream",
     "text": [
      "Epoch 1/10\n",
      "211/211 [==============================] - 21s 74ms/step - loss: 0.6562 - accuracy: 0.6435 - val_loss: 0.5262 - val_accuracy: 0.8020\n",
      "Epoch 2/10\n",
      "211/211 [==============================] - 15s 71ms/step - loss: 0.3617 - accuracy: 0.8704 - val_loss: 0.3355 - val_accuracy: 0.8793\n",
      "Epoch 3/10\n",
      "211/211 [==============================] - ETA: 0s - loss: 0.2538 - accuracy: 0.9138Restoring model weights from the end of the best epoch.\n",
      "211/211 [==============================] - 15s 71ms/step - loss: 0.2538 - accuracy: 0.9138 - val_loss: 0.3547 - val_accuracy: 0.8573\n",
      "Epoch 00003: early stopping\n"
     ]
    },
    {
     "data": {
      "text/plain": [
       "<keras.callbacks.History at 0x148dfa280>"
      ]
     },
     "execution_count": 20,
     "metadata": {},
     "output_type": "execute_result"
    }
   ],
   "source": [
    "bi_lstm_model.compile(loss=\"binary_crossentropy\",optimizer=\"adam\",metrics=['accuracy'])\n",
    "bi_lstm_model.fit(padding,train_labels,epochs = 10,validation_data=(val_padded,val_labels),callbacks=[EarlyStoppingAtMaxVal()])"
   ]
  },
  {
   "cell_type": "code",
   "execution_count": 21,
   "id": "4da161dc",
   "metadata": {},
   "outputs": [
    {
     "name": "stdout",
     "output_type": "stream",
     "text": [
      "66/66 - 1s - loss: 0.3278 - accuracy: 0.8801 - 747ms/epoch - 11ms/step\n",
      "The BI-LSTM model gives us an accuracy of:  0.8801141977310181\n"
     ]
    }
   ],
   "source": [
    "output = bi_lstm_model.evaluate(testing_padded,  test_labels, verbose=2)\n",
    "print(\"The BI-LSTM model gives us an accuracy of: \", output[1])"
   ]
  },
  {
   "cell_type": "code",
   "execution_count": 22,
   "id": "c8cfa154",
   "metadata": {},
   "outputs": [],
   "source": [
    "gru_model = tf.keras.models.Sequential([\n",
    "    tf.keras.layers.Embedding(vocab_size,16,input_length=120),\n",
    "    tf.keras.layers.GRU(units = 6, dropout=0.3, activation=\"tanh\"),\n",
    "    tf.keras.layers.Dense(units = 1, activation=\"sigmoid\")\n",
    "])"
   ]
  },
  {
   "cell_type": "code",
   "execution_count": 23,
   "id": "69beb4a5",
   "metadata": {},
   "outputs": [
    {
     "name": "stdout",
     "output_type": "stream",
     "text": [
      "Epoch 1/10\n",
      "211/211 [==============================] - 19s 75ms/step - loss: 0.6537 - accuracy: 0.6564 - val_loss: 0.5264 - val_accuracy: 0.7717\n",
      "Epoch 2/10\n",
      "211/211 [==============================] - 14s 66ms/step - loss: 0.3528 - accuracy: 0.8704 - val_loss: 0.3151 - val_accuracy: 0.8912\n",
      "Epoch 3/10\n",
      "211/211 [==============================] - ETA: 0s - loss: 0.2519 - accuracy: 0.9101Restoring model weights from the end of the best epoch.\n",
      "211/211 [==============================] - 14s 66ms/step - loss: 0.2519 - accuracy: 0.9101 - val_loss: 0.3078 - val_accuracy: 0.8864\n",
      "Epoch 00003: early stopping\n"
     ]
    },
    {
     "data": {
      "text/plain": [
       "<keras.callbacks.History at 0x149d68670>"
      ]
     },
     "execution_count": 23,
     "metadata": {},
     "output_type": "execute_result"
    }
   ],
   "source": [
    "gru_model.compile(loss=\"binary_crossentropy\",optimizer=\"adam\",metrics=['accuracy'])\n",
    "gru_model.fit(padding,train_labels,epochs = 10,validation_data=(val_padded,val_labels),callbacks=[EarlyStoppingAtMaxVal()])"
   ]
  },
  {
   "cell_type": "code",
   "execution_count": 24,
   "id": "614acb90",
   "metadata": {},
   "outputs": [
    {
     "name": "stdout",
     "output_type": "stream",
     "text": [
      "66/66 - 1s - loss: 0.3195 - accuracy: 0.8815 - 667ms/epoch - 10ms/step\n",
      "0.8767936665017317\n",
      "The GRU model gives us an accuracy of:  0.88154137134552\n"
     ]
    }
   ],
   "source": [
    "output = gru_model.evaluate(testing_padded,  test_labels, verbose=2)\n",
    "y_preds = gru_model.predict(testing_padded)\n",
    "pred_labels = np.where(y_preds > 0.5, 1, 0)\n",
    "print(f1_score(test_labels, pred_labels))\n",
    "print(\"The GRU model gives us an accuracy of: \", output[1])"
   ]
  },
  {
   "cell_type": "code",
   "execution_count": null,
   "id": "9dff5af1",
   "metadata": {},
   "outputs": [],
   "source": []
  }
 ],
 "metadata": {
  "kernelspec": {
   "display_name": "Python 3 (ipykernel)",
   "language": "python",
   "name": "python3"
  },
  "language_info": {
   "codemirror_mode": {
    "name": "ipython",
    "version": 3
   },
   "file_extension": ".py",
   "mimetype": "text/x-python",
   "name": "python",
   "nbconvert_exporter": "python",
   "pygments_lexer": "ipython3",
   "version": "3.9.6"
  },
  "varInspector": {
   "cols": {
    "lenName": 16,
    "lenType": 16,
    "lenVar": 40
   },
   "kernels_config": {
    "python": {
     "delete_cmd_postfix": "",
     "delete_cmd_prefix": "del ",
     "library": "var_list.py",
     "varRefreshCmd": "print(var_dic_list())"
    },
    "r": {
     "delete_cmd_postfix": ") ",
     "delete_cmd_prefix": "rm(",
     "library": "var_list.r",
     "varRefreshCmd": "cat(var_dic_list()) "
    }
   },
   "types_to_exclude": [
    "module",
    "function",
    "builtin_function_or_method",
    "instance",
    "_Feature"
   ],
   "window_display": false
  }
 },
 "nbformat": 4,
 "nbformat_minor": 5
}
