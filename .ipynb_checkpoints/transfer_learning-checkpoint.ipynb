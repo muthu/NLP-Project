{
 "cells": [
  {
   "cell_type": "code",
   "execution_count": 1,
   "id": "67c99094",
   "metadata": {},
   "outputs": [],
   "source": [
    "# !pip install tensorflow_hub"
   ]
  },
  {
   "cell_type": "code",
   "execution_count": 2,
   "id": "a28064be",
   "metadata": {},
   "outputs": [],
   "source": [
    "import tensorflow as tf\n",
    "from tensorflow import keras\n",
    "from keras.callbacks import EarlyStopping\n",
    "from tensorflow.keras.preprocessing.text import Tokenizer\n",
    "from tensorflow.keras.preprocessing.sequence import pad_sequences\n",
    "from keras.layers import TimeDistributed\n",
    "import tensorflow_hub as hub\n",
    "import numpy as np \n",
    "import pandas as pd\n",
    "\n",
    "from sklearn.model_selection import train_test_split\n",
    "from sklearn.metrics import confusion_matrix, accuracy_score\n",
    "from tqdm import tqdm\n",
    "\n",
    "import nltk\n",
    "from nltk.corpus import stopwords\n",
    "from nltk.tokenize import word_tokenize\n",
    "stop_words = stopwords.words('english')\n",
    "from nltk.stem.porter import PorterStemmer\n",
    "porter = PorterStemmer()\n",
    "lem = nltk.stem.wordnet.WordNetLemmatizer()\n",
    "\n",
    "tf.random.set_seed(1234)\n",
    "\n",
    "import string\n",
    "table = str.maketrans('', '', string.punctuation)"
   ]
  },
  {
   "cell_type": "code",
   "execution_count": 3,
   "id": "6e87171f",
   "metadata": {},
   "outputs": [],
   "source": [
    "class EarlyStoppingAtMaxVal(keras.callbacks.Callback):\n",
    "    \"\"\"Stop training when the loss is at its min, i.e. the loss stops decreasing.\n",
    "\n",
    "  Arguments:\n",
    "      patience: Number of epochs to wait after min has been hit. After this\n",
    "      number of no improvement, training stops.\n",
    "  \"\"\"\n",
    "\n",
    "    def __init__(self, patience=0):\n",
    "        super(EarlyStoppingAtMaxVal, self).__init__()\n",
    "        self.patience = patience\n",
    "        # best_weights to store the weights at which the minimum loss occurs.\n",
    "        self.best_weights = None\n",
    "\n",
    "    def on_train_begin(self, logs=None):\n",
    "        # The number of epoch it has waited when loss is no longer minimum.\n",
    "        self.wait = 0\n",
    "        # The epoch the training stops at.\n",
    "        self.stopped_epoch = 0\n",
    "        # Initialize the best as infinity.\n",
    "        self.best = -np.Inf\n",
    "\n",
    "    def on_epoch_end(self, epoch, logs=None):\n",
    "        current = logs.get(\"val_accuracy\")\n",
    "        if np.less(self.best, current):\n",
    "            self.best = current\n",
    "            self.wait = 0\n",
    "            # Record the best weights if current results is better (less).\n",
    "            self.best_weights = self.model.get_weights()\n",
    "        else:\n",
    "            self.wait += 1\n",
    "            if self.wait >= self.patience:\n",
    "                self.stopped_epoch = epoch\n",
    "                self.model.stop_training = True\n",
    "                print(\"Restoring model weights from the end of the best epoch.\")\n",
    "                self.model.set_weights(self.best_weights)\n",
    "\n",
    "    def on_train_end(self, logs=None):\n",
    "        if self.stopped_epoch > 0:\n",
    "            self.model.set_weights(self.best_weights)\n",
    "            print(\"Epoch %05d: early stopping\" % (self.stopped_epoch + 1))"
   ]
  },
  {
   "cell_type": "code",
   "execution_count": 4,
   "id": "9b5a7640",
   "metadata": {},
   "outputs": [],
   "source": [
    "twitter_df = pd.read_csv(\"data/clean/git_twitter.csv\", index_col = \"Unnamed: 0\")\n",
    "reddit_df = pd.read_csv(\"data/clean/reddit.csv\", index_col = \"Unnamed: 0\")\n",
    "reddit_df = reddit_df.dropna()\n",
    "reddit_df['Data'] = reddit_df['Data'].str.lower()\n",
    "reddit_df['Data'] = reddit_df['Data'].apply(lambda x: ' '.join([word.translate(table) for word in x.split()]))\n",
    "reddit_df['Data'] = reddit_df['Data'].apply(lambda x: ' '.join([word for word in x.split() if word not in (stop_words)]))\n",
    "reddit_df['Data'] = reddit_df['Data'].apply(lambda x: ' '.join([porter.stem(word) for word in x.split()]))\n",
    "\n",
    "# reddit_df['Data'] = reddit_df['Data'].apply(lambda x: ' '.join([lem.lemmatize(word) for word in x.split()]))"
   ]
  },
  {
   "cell_type": "code",
   "execution_count": 5,
   "id": "0043f88f",
   "metadata": {},
   "outputs": [],
   "source": [
    "# encoder = hub.load('https://tfhub.dev/google/universal-sentence-encoder/4')\n",
    "# encoder(['Hello World'])"
   ]
  },
  {
   "cell_type": "code",
   "execution_count": 6,
   "id": "36143936",
   "metadata": {},
   "outputs": [],
   "source": [
    "# reddit_df['Data'] = reddit_df['Data'].str.lower()\n",
    "(train, test) = train_test_split(reddit_df, test_size=0.2, random_state=42, shuffle=True)\n",
    "(train, val) = train_test_split(train, test_size=0.2, random_state=42, shuffle=True)"
   ]
  },
  {
   "cell_type": "code",
   "execution_count": 7,
   "id": "61b7f60b",
   "metadata": {},
   "outputs": [],
   "source": [
    "train_sentences = train['Data'].to_numpy()\n",
    "test_sentences = test['Data'].to_numpy()\n",
    "val_sentences = val['Data'].to_numpy()\n",
    "\n",
    "train_labels = train['Label'].to_numpy()\n",
    "test_labels = test['Label'].to_numpy()\n",
    "val_labels = val['Label'].to_numpy()"
   ]
  },
  {
   "cell_type": "code",
   "execution_count": 8,
   "id": "e7b87a3b",
   "metadata": {},
   "outputs": [
    {
     "name": "stderr",
     "output_type": "stream",
     "text": [
      "2021-12-04 09:34:03.255887: I tensorflow/core/platform/cpu_feature_guard.cc:151] This TensorFlow binary is optimized with oneAPI Deep Neural Network Library (oneDNN) to use the following CPU instructions in performance-critical operations:  AVX2 FMA\n",
      "To enable them in other operations, rebuild TensorFlow with the appropriate compiler flags.\n"
     ]
    }
   ],
   "source": [
    "vocab_size = 10000\n",
    "model = tf.keras.models.Sequential()\n",
    "model.add(hub.KerasLayer('https://tfhub.dev/google/universal-sentence-encoder/4', \n",
    "                        input_shape=[], \n",
    "                        dtype=tf.string, \n",
    "                        trainable=False))\n",
    "model.add(tf.keras.layers.Dense(6))\n",
    "model.add(tf.keras.layers.Dense(1, activation='sigmoid'))"
   ]
  },
  {
   "cell_type": "code",
   "execution_count": 9,
   "id": "d7246100",
   "metadata": {},
   "outputs": [],
   "source": [
    "model.compile(optimizer='adam', \n",
    "              loss='binary_crossentropy', \n",
    "              metrics=['accuracy'])"
   ]
  },
  {
   "cell_type": "code",
   "execution_count": 10,
   "id": "2ab2fef5",
   "metadata": {},
   "outputs": [
    {
     "name": "stdout",
     "output_type": "stream",
     "text": [
      "Epoch 1/10\n",
      "340/340 [==============================] - 8s 17ms/step - loss: 0.5197 - accuracy: 0.7675 - val_loss: 0.4029 - val_accuracy: 0.8432\n",
      "Epoch 2/10\n",
      "340/340 [==============================] - 5s 16ms/step - loss: 0.3701 - accuracy: 0.8531 - val_loss: 0.3546 - val_accuracy: 0.8557\n",
      "Epoch 3/10\n",
      "340/340 [==============================] - 7s 22ms/step - loss: 0.3448 - accuracy: 0.8593 - val_loss: 0.3442 - val_accuracy: 0.8609\n",
      "Epoch 4/10\n",
      "340/340 [==============================] - 5s 15ms/step - loss: 0.3372 - accuracy: 0.8634 - val_loss: 0.3410 - val_accuracy: 0.8638\n",
      "Epoch 5/10\n",
      "340/340 [==============================] - 8s 23ms/step - loss: 0.3331 - accuracy: 0.8640 - val_loss: 0.3395 - val_accuracy: 0.8646\n",
      "Epoch 6/10\n",
      "340/340 [==============================] - 7s 22ms/step - loss: 0.3303 - accuracy: 0.8649 - val_loss: 0.3391 - val_accuracy: 0.8649\n",
      "Epoch 7/10\n",
      "340/340 [==============================] - 6s 17ms/step - loss: 0.3288 - accuracy: 0.8658 - val_loss: 0.3388 - val_accuracy: 0.8649\n",
      "Epoch 8/10\n",
      "340/340 [==============================] - 6s 18ms/step - loss: 0.3266 - accuracy: 0.8655 - val_loss: 0.3387 - val_accuracy: 0.8660\n",
      "Epoch 9/10\n",
      "340/340 [==============================] - 6s 17ms/step - loss: 0.3257 - accuracy: 0.8670 - val_loss: 0.3379 - val_accuracy: 0.8668\n",
      "Epoch 10/10\n",
      "340/340 [==============================] - 6s 16ms/step - loss: 0.3245 - accuracy: 0.8673 - val_loss: 0.3398 - val_accuracy: 0.8686\n"
     ]
    },
    {
     "data": {
      "text/plain": [
       "<keras.callbacks.History at 0x154f51130>"
      ]
     },
     "execution_count": 10,
     "metadata": {},
     "output_type": "execute_result"
    }
   ],
   "source": [
    "model.fit(train_sentences, \n",
    "          train_labels, \n",
    "          epochs=10, \n",
    "          validation_data=(val_sentences, val_labels))"
   ]
  },
  {
   "cell_type": "code",
   "execution_count": 11,
   "id": "68bae8f4",
   "metadata": {},
   "outputs": [],
   "source": [
    "token = Tokenizer()\n",
    "token.fit_on_texts(reddit_df['Data'])\n",
    "seq = token.texts_to_sequences(train_sentences)\n",
    "padding = pad_sequences(seq,maxlen=300)\n",
    "\n",
    "# token.fit_on_texts(val_sentenses)\n",
    "seq = token.texts_to_sequences(val_sentences)\n",
    "val_padded = pad_sequences(seq,maxlen=300)\n",
    "\n",
    "# token.fit_on_texts(test_sentenses)\n",
    "seq = token.texts_to_sequences(test_sentences)\n",
    "test_padded = pad_sequences(seq,maxlen=300)"
   ]
  },
  {
   "cell_type": "code",
   "execution_count": null,
   "id": "7ff50805",
   "metadata": {},
   "outputs": [],
   "source": []
  },
  {
   "cell_type": "code",
   "execution_count": 12,
   "id": "bbfd7875",
   "metadata": {},
   "outputs": [],
   "source": [
    "vocab_size = len(token.word_index)+1"
   ]
  },
  {
   "cell_type": "code",
   "execution_count": 13,
   "id": "b2fac9b1",
   "metadata": {},
   "outputs": [],
   "source": [
    "# embedding_vector = {}\n",
    "# f = open('glove.6B.300d.txt')\n",
    "# for line in tqdm(f):\n",
    "#     value = line.split(' ')\n",
    "#     word = value[0]\n",
    "#     coef = np.array(value[1:],dtype = 'float32')\n",
    "#     embedding_vector[word] = coef"
   ]
  },
  {
   "cell_type": "code",
   "execution_count": 14,
   "id": "5ab54727",
   "metadata": {},
   "outputs": [],
   "source": [
    "# embedding_matrix = np.zeros((vocab_size,300))\n",
    "# for word,i in tqdm(token.word_index.items()):\n",
    "#     embedding_value = embedding_vector.get(word)\n",
    "#     if embedding_value is not None:\n",
    "#         embedding_matrix[i] = embedding_value"
   ]
  },
  {
   "cell_type": "code",
   "execution_count": 15,
   "id": "c4a2850e",
   "metadata": {},
   "outputs": [],
   "source": [
    "with open(\"embedding_mat_lem.npy\",\"rb\") as f:\n",
    "    embedding_matrix = np.load(f)"
   ]
  },
  {
   "cell_type": "code",
   "execution_count": 16,
   "id": "218c304d",
   "metadata": {},
   "outputs": [],
   "source": [
    "simple_model = tf.keras.models.Sequential([\n",
    "    tf.keras.layers.Embedding(vocab_size,300,weights = [embedding_matrix],input_length=300,trainable = True),\n",
    "    tf.keras.layers.GRU(units = 6, dropout=0.3, activation=\"tanh\"),\n",
    "    tf.keras.layers.Dense(units = 1, activation=\"sigmoid\")\n",
    "])"
   ]
  },
  {
   "cell_type": "code",
   "execution_count": 17,
   "id": "6da8fda2",
   "metadata": {},
   "outputs": [
    {
     "name": "stdout",
     "output_type": "stream",
     "text": [
      "Epoch 1/10\n",
      "340/340 [==============================] - 98s 279ms/step - loss: 0.4519 - accuracy: 0.7981 - val_loss: 0.3006 - val_accuracy: 0.8900\n",
      "Epoch 2/10\n",
      "340/340 [==============================] - 89s 262ms/step - loss: 0.2549 - accuracy: 0.9145 - val_loss: 0.2560 - val_accuracy: 0.9153\n",
      "Epoch 3/10\n",
      "340/340 [==============================] - ETA: 0s - loss: 0.1807 - accuracy: 0.9421Restoring model weights from the end of the best epoch.\n",
      "340/340 [==============================] - 102s 300ms/step - loss: 0.1807 - accuracy: 0.9421 - val_loss: 0.2589 - val_accuracy: 0.9117\n",
      "Epoch 00003: early stopping\n"
     ]
    },
    {
     "data": {
      "text/plain": [
       "<keras.callbacks.History at 0x155fda9a0>"
      ]
     },
     "execution_count": 17,
     "metadata": {},
     "output_type": "execute_result"
    }
   ],
   "source": [
    "simple_model.compile(loss=\"binary_crossentropy\",optimizer=\"adam\",metrics=['accuracy'])\n",
    "simple_model.fit(padding,train_labels,epochs = 10,validation_data=(val_padded,val_labels),callbacks=[EarlyStoppingAtMaxVal()])"
   ]
  },
  {
   "cell_type": "code",
   "execution_count": 18,
   "id": "b6455d69",
   "metadata": {},
   "outputs": [
    {
     "name": "stdout",
     "output_type": "stream",
     "text": [
      "107/107 - 4s - loss: 0.2613 - accuracy: 0.9135 - 4s/epoch - 37ms/step\n"
     ]
    },
    {
     "data": {
      "text/plain": [
       "[0.2613486349582672, 0.9134530425071716]"
      ]
     },
     "execution_count": 18,
     "metadata": {},
     "output_type": "execute_result"
    }
   ],
   "source": [
    "simple_model.evaluate(test_padded,  test_labels, verbose=2)"
   ]
  },
  {
   "cell_type": "code",
   "execution_count": null,
   "id": "58d8ccc0",
   "metadata": {},
   "outputs": [],
   "source": []
  },
  {
   "cell_type": "code",
   "execution_count": null,
   "id": "b03a1900",
   "metadata": {},
   "outputs": [],
   "source": []
  }
 ],
 "metadata": {
  "kernelspec": {
   "display_name": "Python 3 (ipykernel)",
   "language": "python",
   "name": "python3"
  },
  "language_info": {
   "codemirror_mode": {
    "name": "ipython",
    "version": 3
   },
   "file_extension": ".py",
   "mimetype": "text/x-python",
   "name": "python",
   "nbconvert_exporter": "python",
   "pygments_lexer": "ipython3",
   "version": "3.9.6"
  },
  "varInspector": {
   "cols": {
    "lenName": 16,
    "lenType": 16,
    "lenVar": 40
   },
   "kernels_config": {
    "python": {
     "delete_cmd_postfix": "",
     "delete_cmd_prefix": "del ",
     "library": "var_list.py",
     "varRefreshCmd": "print(var_dic_list())"
    },
    "r": {
     "delete_cmd_postfix": ") ",
     "delete_cmd_prefix": "rm(",
     "library": "var_list.r",
     "varRefreshCmd": "cat(var_dic_list()) "
    }
   },
   "types_to_exclude": [
    "module",
    "function",
    "builtin_function_or_method",
    "instance",
    "_Feature"
   ],
   "window_display": false
  }
 },
 "nbformat": 4,
 "nbformat_minor": 5
}
